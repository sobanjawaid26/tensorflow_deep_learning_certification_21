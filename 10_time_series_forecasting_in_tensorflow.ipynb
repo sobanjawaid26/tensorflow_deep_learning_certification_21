{
  "nbformat": 4,
  "nbformat_minor": 0,
  "metadata": {
    "colab": {
      "name": "10_time_series_forecasting_in_tensorflow.ipynb",
      "provenance": [],
      "collapsed_sections": [],
      "authorship_tag": "ABX9TyPEYjQ97EfH/7LHB9YxnOFv",
      "include_colab_link": true
    },
    "kernelspec": {
      "name": "python3",
      "display_name": "Python 3"
    },
    "language_info": {
      "name": "python"
    }
  },
  "cells": [
    {
      "cell_type": "markdown",
      "metadata": {
        "id": "view-in-github",
        "colab_type": "text"
      },
      "source": [
        "<a href=\"https://colab.research.google.com/github/mrdbourke/tensorflow-deep-learning/blob/main/10_time_series_forecasting_in_tensorflow.ipynb\" target=\"_parent\"><img src=\"https://colab.research.google.com/assets/colab-badge.svg\" alt=\"Open In Colab\"/></a>"
      ]
    },
    {
      "cell_type": "markdown",
      "metadata": {
        "id": "vlVtweEv7nAx"
      },
      "source": [
        "# Note: This notebook is a work in progress & will be updated continuously over the next week or so before it's ready - 20 May 2021\n",
        "\n",
        "# Time series forecasting in TensorFlow\n",
        "\n",
        "The goal of this notebook is to get you familiar with working with time series data.\n",
        "\n",
        "It won't cover all of the time series field but by the end you will get a fairly good overview of things to consider for time series problems...\n",
        "\n",
        "Outline:\n",
        "* Get data (a time series)\n",
        "* Format data\n",
        "  * Turn data into a windowed dataset\n",
        "  * Training/test sets for time series\n",
        "  * Univariate - Bitcoin's price history\n",
        "  * Multivariate - Bitcoin's price history + block size\n",
        "* Model data\n",
        "  * Baseline - naive forecasting\n",
        "  * Baseline 2 - random forest regressor\n",
        "  * Deep model - fully connected\n",
        "  * Sequence models\n",
        "    * LSTM\n",
        "    * Conv1D\n",
        "  * N-Beats algorithm - https://arxiv.org/pdf/1905.10437.pdf\n",
        "* Evaluating a time series model\n",
        "  * MAE\n",
        "  * MSE\n",
        "  * RMSE etc...\n",
        "* Uncertainty estimates\n",
        "  * Coconut uncertainty - epistemic uncertainty\n",
        "  * Subway uncertainty - aleatory uncertainty\n",
        "* Why forecasting is BS (turkey problem) - https://youtu.be/hRwimmE2wEk\n",
        "  * Open system: beware (like fortune telling), see Mark Saroufim's tweet - https://twitter.com/marksaroufim/status/1366871736604532739?s=20 \n",
        "  * Closed system: try it out \n",
        "* Exercises\n",
        "* Extra-curriculum\n",
        "  * Time series book - https://otexts.com/fpp2/accuracy.html \n"
      ]
    },
    {
      "cell_type": "markdown",
      "metadata": {
        "id": "ZdeV4DEeAjF2"
      },
      "source": [
        "## TODO: What is a time series problem?\n",
        "\n",
        "* Forecasting\n",
        "* Classification"
      ]
    },
    {
      "cell_type": "markdown",
      "metadata": {
        "id": "81ywkh0q8Apj"
      },
      "source": [
        "## TODO: Get data\n",
        "\n",
        "Let's predict the price of Bitcoin! Data source: https://www.coindesk.com/price/bitcoin\n",
        "\n",
        "> **Note:** This is not financial advice, as you'll see time series forecasting for stock market prices is actually quite terrible.\n",
        "\n",
        "See this tweet for reference: https://twitter.com/marksaroufim/status/1366871736604532739?s=20\n",
        "\n",
        "TODO (upload to Google Storage/GitHub): Data: https://www.dropbox.com/s/hoexgnrk44uco0a/BTC_USD_2013-10-01_2021-05-18-CoinDesk.csv?dl=0"
      ]
    },
    {
      "cell_type": "code",
      "metadata": {
        "colab": {
          "base_uri": "https://localhost:8080/"
        },
        "id": "mVEjK6ZHDqkQ",
        "outputId": "0ff22965-79a8-4c30-ed00-9694df616923"
      },
      "source": [
        "!wget https://www.dropbox.com/s/hoexgnrk44uco0a/BTC_USD_2013-10-01_2021-05-18-CoinDesk.csv"
      ],
      "execution_count": 1,
      "outputs": [
        {
          "output_type": "stream",
          "text": [
            "--2021-05-20 02:58:31--  https://www.dropbox.com/s/hoexgnrk44uco0a/BTC_USD_2013-10-01_2021-05-18-CoinDesk.csv\n",
            "Resolving www.dropbox.com (www.dropbox.com)... 162.125.6.18, 2620:100:601c:18::a27d:612\n",
            "Connecting to www.dropbox.com (www.dropbox.com)|162.125.6.18|:443... connected.\n",
            "HTTP request sent, awaiting response... 301 Moved Permanently\n",
            "Location: /s/raw/hoexgnrk44uco0a/BTC_USD_2013-10-01_2021-05-18-CoinDesk.csv [following]\n",
            "--2021-05-20 02:58:31--  https://www.dropbox.com/s/raw/hoexgnrk44uco0a/BTC_USD_2013-10-01_2021-05-18-CoinDesk.csv\n",
            "Reusing existing connection to www.dropbox.com:443.\n",
            "HTTP request sent, awaiting response... 302 Found\n",
            "Location: https://uce2bade45f1026fb8f36e3fd2c6.dl.dropboxusercontent.com/cd/0/inline/BO2NoVj3TdhpEPPyeo0VL4N7TJqlu-fof5o8EY3iPLxES_K3FmF6LPcvqiiNSWSxnuCVnqki6USoZdLowQfeEeK4Uh_s29NeHnw9MJbUc7EPq-HUIeDdOMZK14Qat0LNJWzIcQelk9sb4Rx41q_icGkJ/file# [following]\n",
            "--2021-05-20 02:58:31--  https://uce2bade45f1026fb8f36e3fd2c6.dl.dropboxusercontent.com/cd/0/inline/BO2NoVj3TdhpEPPyeo0VL4N7TJqlu-fof5o8EY3iPLxES_K3FmF6LPcvqiiNSWSxnuCVnqki6USoZdLowQfeEeK4Uh_s29NeHnw9MJbUc7EPq-HUIeDdOMZK14Qat0LNJWzIcQelk9sb4Rx41q_icGkJ/file\n",
            "Resolving uce2bade45f1026fb8f36e3fd2c6.dl.dropboxusercontent.com (uce2bade45f1026fb8f36e3fd2c6.dl.dropboxusercontent.com)... 162.125.6.15, 2620:100:601c:15::a27d:60f\n",
            "Connecting to uce2bade45f1026fb8f36e3fd2c6.dl.dropboxusercontent.com (uce2bade45f1026fb8f36e3fd2c6.dl.dropboxusercontent.com)|162.125.6.15|:443... connected.\n",
            "HTTP request sent, awaiting response... 200 OK\n",
            "Length: 178509 (174K) [text/plain]\n",
            "Saving to: ‘BTC_USD_2013-10-01_2021-05-18-CoinDesk.csv.2’\n",
            "\n",
            "BTC_USD_2013-10-01_ 100%[===================>] 174.33K  --.-KB/s    in 0.005s  \n",
            "\n",
            "2021-05-20 02:58:32 (37.2 MB/s) - ‘BTC_USD_2013-10-01_2021-05-18-CoinDesk.csv.2’ saved [178509/178509]\n",
            "\n"
          ],
          "name": "stdout"
        }
      ]
    },
    {
      "cell_type": "code",
      "metadata": {
        "colab": {
          "base_uri": "https://localhost:8080/",
          "height": 437
        },
        "id": "5FOrshVX_dUE",
        "outputId": "a765d4ab-8397-41d0-b2df-2b61a0d8f291"
      },
      "source": [
        "# Import with pandas \n",
        "import pandas as pd\n",
        "# Parse dates and set date column to index\n",
        "df = pd.read_csv(\"/content/BTC_USD_2013-10-01_2021-05-18-CoinDesk.csv\", \n",
        "                 parse_dates=[\"Date\"], \n",
        "                 index_col=[\"Date\"]) # parse the date column (tell pandas column 1 is a datetime)\n",
        "df"
      ],
      "execution_count": 2,
      "outputs": [
        {
          "output_type": "execute_result",
          "data": {
            "text/html": [
              "<div>\n",
              "<style scoped>\n",
              "    .dataframe tbody tr th:only-of-type {\n",
              "        vertical-align: middle;\n",
              "    }\n",
              "\n",
              "    .dataframe tbody tr th {\n",
              "        vertical-align: top;\n",
              "    }\n",
              "\n",
              "    .dataframe thead th {\n",
              "        text-align: right;\n",
              "    }\n",
              "</style>\n",
              "<table border=\"1\" class=\"dataframe\">\n",
              "  <thead>\n",
              "    <tr style=\"text-align: right;\">\n",
              "      <th></th>\n",
              "      <th>Currency</th>\n",
              "      <th>Closing Price (USD)</th>\n",
              "      <th>24h Open (USD)</th>\n",
              "      <th>24h High (USD)</th>\n",
              "      <th>24h Low (USD)</th>\n",
              "    </tr>\n",
              "    <tr>\n",
              "      <th>Date</th>\n",
              "      <th></th>\n",
              "      <th></th>\n",
              "      <th></th>\n",
              "      <th></th>\n",
              "      <th></th>\n",
              "    </tr>\n",
              "  </thead>\n",
              "  <tbody>\n",
              "    <tr>\n",
              "      <th>2013-10-01</th>\n",
              "      <td>BTC</td>\n",
              "      <td>123.654990</td>\n",
              "      <td>124.304660</td>\n",
              "      <td>124.751660</td>\n",
              "      <td>122.563490</td>\n",
              "    </tr>\n",
              "    <tr>\n",
              "      <th>2013-10-02</th>\n",
              "      <td>BTC</td>\n",
              "      <td>125.455000</td>\n",
              "      <td>123.654990</td>\n",
              "      <td>125.758500</td>\n",
              "      <td>123.633830</td>\n",
              "    </tr>\n",
              "    <tr>\n",
              "      <th>2013-10-03</th>\n",
              "      <td>BTC</td>\n",
              "      <td>108.584830</td>\n",
              "      <td>125.455000</td>\n",
              "      <td>125.665660</td>\n",
              "      <td>83.328330</td>\n",
              "    </tr>\n",
              "    <tr>\n",
              "      <th>2013-10-04</th>\n",
              "      <td>BTC</td>\n",
              "      <td>118.674660</td>\n",
              "      <td>108.584830</td>\n",
              "      <td>118.675000</td>\n",
              "      <td>107.058160</td>\n",
              "    </tr>\n",
              "    <tr>\n",
              "      <th>2013-10-05</th>\n",
              "      <td>BTC</td>\n",
              "      <td>121.338660</td>\n",
              "      <td>118.674660</td>\n",
              "      <td>121.936330</td>\n",
              "      <td>118.005660</td>\n",
              "    </tr>\n",
              "    <tr>\n",
              "      <th>...</th>\n",
              "      <td>...</td>\n",
              "      <td>...</td>\n",
              "      <td>...</td>\n",
              "      <td>...</td>\n",
              "      <td>...</td>\n",
              "    </tr>\n",
              "    <tr>\n",
              "      <th>2021-05-14</th>\n",
              "      <td>BTC</td>\n",
              "      <td>49764.132082</td>\n",
              "      <td>49596.778891</td>\n",
              "      <td>51448.798576</td>\n",
              "      <td>46294.720180</td>\n",
              "    </tr>\n",
              "    <tr>\n",
              "      <th>2021-05-15</th>\n",
              "      <td>BTC</td>\n",
              "      <td>50032.693137</td>\n",
              "      <td>49717.354353</td>\n",
              "      <td>51578.312545</td>\n",
              "      <td>48944.346536</td>\n",
              "    </tr>\n",
              "    <tr>\n",
              "      <th>2021-05-16</th>\n",
              "      <td>BTC</td>\n",
              "      <td>47885.625255</td>\n",
              "      <td>49926.035067</td>\n",
              "      <td>50690.802950</td>\n",
              "      <td>47005.102292</td>\n",
              "    </tr>\n",
              "    <tr>\n",
              "      <th>2021-05-17</th>\n",
              "      <td>BTC</td>\n",
              "      <td>45604.615754</td>\n",
              "      <td>46805.537852</td>\n",
              "      <td>49670.414174</td>\n",
              "      <td>43868.638969</td>\n",
              "    </tr>\n",
              "    <tr>\n",
              "      <th>2021-05-18</th>\n",
              "      <td>BTC</td>\n",
              "      <td>43144.471291</td>\n",
              "      <td>46439.336570</td>\n",
              "      <td>46622.853437</td>\n",
              "      <td>42102.346430</td>\n",
              "    </tr>\n",
              "  </tbody>\n",
              "</table>\n",
              "<p>2787 rows × 5 columns</p>\n",
              "</div>"
            ],
            "text/plain": [
              "           Currency  Closing Price (USD)  ...  24h High (USD)  24h Low (USD)\n",
              "Date                                      ...                               \n",
              "2013-10-01      BTC           123.654990  ...      124.751660     122.563490\n",
              "2013-10-02      BTC           125.455000  ...      125.758500     123.633830\n",
              "2013-10-03      BTC           108.584830  ...      125.665660      83.328330\n",
              "2013-10-04      BTC           118.674660  ...      118.675000     107.058160\n",
              "2013-10-05      BTC           121.338660  ...      121.936330     118.005660\n",
              "...             ...                  ...  ...             ...            ...\n",
              "2021-05-14      BTC         49764.132082  ...    51448.798576   46294.720180\n",
              "2021-05-15      BTC         50032.693137  ...    51578.312545   48944.346536\n",
              "2021-05-16      BTC         47885.625255  ...    50690.802950   47005.102292\n",
              "2021-05-17      BTC         45604.615754  ...    49670.414174   43868.638969\n",
              "2021-05-18      BTC         43144.471291  ...    46622.853437   42102.346430\n",
              "\n",
              "[2787 rows x 5 columns]"
            ]
          },
          "metadata": {
            "tags": []
          },
          "execution_count": 2
        }
      ]
    },
    {
      "cell_type": "code",
      "metadata": {
        "colab": {
          "base_uri": "https://localhost:8080/"
        },
        "id": "Z-YoeINjCzJ_",
        "outputId": "d0677d28-57cf-4469-bbf8-907cf3477d00"
      },
      "source": [
        "df.info()"
      ],
      "execution_count": 3,
      "outputs": [
        {
          "output_type": "stream",
          "text": [
            "<class 'pandas.core.frame.DataFrame'>\n",
            "DatetimeIndex: 2787 entries, 2013-10-01 to 2021-05-18\n",
            "Data columns (total 5 columns):\n",
            " #   Column               Non-Null Count  Dtype  \n",
            "---  ------               --------------  -----  \n",
            " 0   Currency             2787 non-null   object \n",
            " 1   Closing Price (USD)  2787 non-null   float64\n",
            " 2   24h Open (USD)       2787 non-null   float64\n",
            " 3   24h High (USD)       2787 non-null   float64\n",
            " 4   24h Low (USD)        2787 non-null   float64\n",
            "dtypes: float64(4), object(1)\n",
            "memory usage: 130.6+ KB\n"
          ],
          "name": "stdout"
        }
      ]
    },
    {
      "cell_type": "code",
      "metadata": {
        "colab": {
          "base_uri": "https://localhost:8080/"
        },
        "id": "XP3cN0uvlxhi",
        "outputId": "f83c6836-397a-40a5-a22e-0f0fc278b795"
      },
      "source": [
        "# TODO: time series often may not have very many samples (e.g. monthly = only 12 per year, daily = 365 per year... etc)\n",
        "# Deep learning algorithms usually flourish with lots of data (1000's of samples)\n",
        "len(df)"
      ],
      "execution_count": 4,
      "outputs": [
        {
          "output_type": "execute_result",
          "data": {
            "text/plain": [
              "2787"
            ]
          },
          "metadata": {
            "tags": []
          },
          "execution_count": 4
        }
      ]
    },
    {
      "cell_type": "code",
      "metadata": {
        "colab": {
          "base_uri": "https://localhost:8080/",
          "height": 228
        },
        "id": "QxoNCv2NCuLY",
        "outputId": "fd909096-0812-4b84-b0f8-5ab3cbabda6b"
      },
      "source": [
        "# Only want closing price\n",
        "bitcoin_prices = pd.DataFrame(df[\"Closing Price (USD)\"]).rename(columns={\"Closing Price (USD)\": \"Price\"})\n",
        "bitcoin_prices.head()"
      ],
      "execution_count": 5,
      "outputs": [
        {
          "output_type": "execute_result",
          "data": {
            "text/html": [
              "<div>\n",
              "<style scoped>\n",
              "    .dataframe tbody tr th:only-of-type {\n",
              "        vertical-align: middle;\n",
              "    }\n",
              "\n",
              "    .dataframe tbody tr th {\n",
              "        vertical-align: top;\n",
              "    }\n",
              "\n",
              "    .dataframe thead th {\n",
              "        text-align: right;\n",
              "    }\n",
              "</style>\n",
              "<table border=\"1\" class=\"dataframe\">\n",
              "  <thead>\n",
              "    <tr style=\"text-align: right;\">\n",
              "      <th></th>\n",
              "      <th>Price</th>\n",
              "    </tr>\n",
              "    <tr>\n",
              "      <th>Date</th>\n",
              "      <th></th>\n",
              "    </tr>\n",
              "  </thead>\n",
              "  <tbody>\n",
              "    <tr>\n",
              "      <th>2013-10-01</th>\n",
              "      <td>123.65499</td>\n",
              "    </tr>\n",
              "    <tr>\n",
              "      <th>2013-10-02</th>\n",
              "      <td>125.45500</td>\n",
              "    </tr>\n",
              "    <tr>\n",
              "      <th>2013-10-03</th>\n",
              "      <td>108.58483</td>\n",
              "    </tr>\n",
              "    <tr>\n",
              "      <th>2013-10-04</th>\n",
              "      <td>118.67466</td>\n",
              "    </tr>\n",
              "    <tr>\n",
              "      <th>2013-10-05</th>\n",
              "      <td>121.33866</td>\n",
              "    </tr>\n",
              "  </tbody>\n",
              "</table>\n",
              "</div>"
            ],
            "text/plain": [
              "                Price\n",
              "Date                 \n",
              "2013-10-01  123.65499\n",
              "2013-10-02  125.45500\n",
              "2013-10-03  108.58483\n",
              "2013-10-04  118.67466\n",
              "2013-10-05  121.33866"
            ]
          },
          "metadata": {
            "tags": []
          },
          "execution_count": 5
        }
      ]
    },
    {
      "cell_type": "code",
      "metadata": {
        "colab": {
          "base_uri": "https://localhost:8080/"
        },
        "id": "Y0CAu0PTFT5R",
        "outputId": "463b51b4-a6ec-4314-bd85-0e2d332de6b7"
      },
      "source": [
        "bitcoin_prices.info()"
      ],
      "execution_count": 6,
      "outputs": [
        {
          "output_type": "stream",
          "text": [
            "<class 'pandas.core.frame.DataFrame'>\n",
            "DatetimeIndex: 2787 entries, 2013-10-01 to 2021-05-18\n",
            "Data columns (total 1 columns):\n",
            " #   Column  Non-Null Count  Dtype  \n",
            "---  ------  --------------  -----  \n",
            " 0   Price   2787 non-null   float64\n",
            "dtypes: float64(1)\n",
            "memory usage: 43.5 KB\n"
          ],
          "name": "stdout"
        }
      ]
    },
    {
      "cell_type": "code",
      "metadata": {
        "colab": {
          "base_uri": "https://localhost:8080/",
          "height": 442
        },
        "id": "CfkhZhmCEyUe",
        "outputId": "89a197c8-54bb-4bfe-eef6-dbbc37b6a053"
      },
      "source": [
        "bitcoin_prices.plot(figsize=(10, 7));"
      ],
      "execution_count": 7,
      "outputs": [
        {
          "output_type": "display_data",
          "data": {
            "image/png": "[encoded data removed]",
            "text/plain": [
              "<Figure size 720x504 with 1 Axes>"
            ]
          },
          "metadata": {
            "tags": [],
            "needs_background": "light"
          }
        }
      ]
    },
    {
      "cell_type": "code",
      "metadata": {
        "colab": {
          "base_uri": "https://localhost:8080/",
          "height": 228
        },
        "id": "v-hEaaGjePVD",
        "outputId": "c8cbdd59-4ec8-4e49-b84a-8fbfced04407"
      },
      "source": [
        "bitcoin_prices.head()"
      ],
      "execution_count": 8,
      "outputs": [
        {
          "output_type": "execute_result",
          "data": {
            "text/html": [
              "<div>\n",
              "<style scoped>\n",
              "    .dataframe tbody tr th:only-of-type {\n",
              "        vertical-align: middle;\n",
              "    }\n",
              "\n",
              "    .dataframe tbody tr th {\n",
              "        vertical-align: top;\n",
              "    }\n",
              "\n",
              "    .dataframe thead th {\n",
              "        text-align: right;\n",
              "    }\n",
              "</style>\n",
              "<table border=\"1\" class=\"dataframe\">\n",
              "  <thead>\n",
              "    <tr style=\"text-align: right;\">\n",
              "      <th></th>\n",
              "      <th>Price</th>\n",
              "    </tr>\n",
              "    <tr>\n",
              "      <th>Date</th>\n",
              "      <th></th>\n",
              "    </tr>\n",
              "  </thead>\n",
              "  <tbody>\n",
              "    <tr>\n",
              "      <th>2013-10-01</th>\n",
              "      <td>123.65499</td>\n",
              "    </tr>\n",
              "    <tr>\n",
              "      <th>2013-10-02</th>\n",
              "      <td>125.45500</td>\n",
              "    </tr>\n",
              "    <tr>\n",
              "      <th>2013-10-03</th>\n",
              "      <td>108.58483</td>\n",
              "    </tr>\n",
              "    <tr>\n",
              "      <th>2013-10-04</th>\n",
              "      <td>118.67466</td>\n",
              "    </tr>\n",
              "    <tr>\n",
              "      <th>2013-10-05</th>\n",
              "      <td>121.33866</td>\n",
              "    </tr>\n",
              "  </tbody>\n",
              "</table>\n",
              "</div>"
            ],
            "text/plain": [
              "                Price\n",
              "Date                 \n",
              "2013-10-01  123.65499\n",
              "2013-10-02  125.45500\n",
              "2013-10-03  108.58483\n",
              "2013-10-04  118.67466\n",
              "2013-10-05  121.33866"
            ]
          },
          "metadata": {
            "tags": []
          },
          "execution_count": 8
        }
      ]
    },
    {
      "cell_type": "code",
      "metadata": {
        "colab": {
          "base_uri": "https://localhost:8080/",
          "height": 228
        },
        "id": "HZCQEgDSeJ2p",
        "outputId": "12c09006-f895-45a8-c42b-d146c5398d95"
      },
      "source": [
        "# Windowing data\n",
        "bitcoin_prices[\"Shift+1\"] = bitcoin_prices[\"Price\"].shift(1)\n",
        "bitcoin_prices.head()"
      ],
      "execution_count": 9,
      "outputs": [
        {
          "output_type": "execute_result",
          "data": {
            "text/html": [
              "<div>\n",
              "<style scoped>\n",
              "    .dataframe tbody tr th:only-of-type {\n",
              "        vertical-align: middle;\n",
              "    }\n",
              "\n",
              "    .dataframe tbody tr th {\n",
              "        vertical-align: top;\n",
              "    }\n",
              "\n",
              "    .dataframe thead th {\n",
              "        text-align: right;\n",
              "    }\n",
              "</style>\n",
              "<table border=\"1\" class=\"dataframe\">\n",
              "  <thead>\n",
              "    <tr style=\"text-align: right;\">\n",
              "      <th></th>\n",
              "      <th>Price</th>\n",
              "      <th>Shift+1</th>\n",
              "    </tr>\n",
              "    <tr>\n",
              "      <th>Date</th>\n",
              "      <th></th>\n",
              "      <th></th>\n",
              "    </tr>\n",
              "  </thead>\n",
              "  <tbody>\n",
              "    <tr>\n",
              "      <th>2013-10-01</th>\n",
              "      <td>123.65499</td>\n",
              "      <td>NaN</td>\n",
              "    </tr>\n",
              "    <tr>\n",
              "      <th>2013-10-02</th>\n",
              "      <td>125.45500</td>\n",
              "      <td>123.65499</td>\n",
              "    </tr>\n",
              "    <tr>\n",
              "      <th>2013-10-03</th>\n",
              "      <td>108.58483</td>\n",
              "      <td>125.45500</td>\n",
              "    </tr>\n",
              "    <tr>\n",
              "      <th>2013-10-04</th>\n",
              "      <td>118.67466</td>\n",
              "      <td>108.58483</td>\n",
              "    </tr>\n",
              "    <tr>\n",
              "      <th>2013-10-05</th>\n",
              "      <td>121.33866</td>\n",
              "      <td>118.67466</td>\n",
              "    </tr>\n",
              "  </tbody>\n",
              "</table>\n",
              "</div>"
            ],
            "text/plain": [
              "                Price    Shift+1\n",
              "Date                            \n",
              "2013-10-01  123.65499        NaN\n",
              "2013-10-02  125.45500  123.65499\n",
              "2013-10-03  108.58483  125.45500\n",
              "2013-10-04  118.67466  108.58483\n",
              "2013-10-05  121.33866  118.67466"
            ]
          },
          "metadata": {
            "tags": []
          },
          "execution_count": 9
        }
      ]
    },
    {
      "cell_type": "markdown",
      "metadata": {
        "id": "O2C1JsHUPYGG"
      },
      "source": [
        "### Importing time series as a CSV"
      ]
    },
    {
      "cell_type": "code",
      "metadata": {
        "colab": {
          "base_uri": "https://localhost:8080/"
        },
        "id": "UkTvwP2DCuGK",
        "outputId": "45e07aad-47c4-4fa3-8c52-7f5637f20f51"
      },
      "source": [
        "# Importing with Python CSV - https://realpython.com/python-csv/\n",
        "import csv\n",
        "from datetime import datetime\n",
        "\n",
        "timesteps = []\n",
        "btc_price = []\n",
        "with open(\"/content/BTC_USD_2013-10-01_2021-05-18-CoinDesk.csv\", \"r\") as f:\n",
        "  csv_reader = csv.reader(f, delimiter=\",\")\n",
        "  next(csv_reader) # skip first line\n",
        "  for line in csv_reader:\n",
        "    timesteps.append(datetime.strptime(line[1], \"%Y-%m-%d\")) # get the dates as dates (not strings)\n",
        "    btc_price.append(float(line[2])) # get the closing price as float\n",
        "\n",
        "# View first 10\n",
        "timesteps[:10], btc_price[:10]"
      ],
      "execution_count": 10,
      "outputs": [
        {
          "output_type": "execute_result",
          "data": {
            "text/plain": [
              "([datetime.datetime(2013, 10, 1, 0, 0),\n",
              "  datetime.datetime(2013, 10, 2, 0, 0),\n",
              "  datetime.datetime(2013, 10, 3, 0, 0),\n",
              "  datetime.datetime(2013, 10, 4, 0, 0),\n",
              "  datetime.datetime(2013, 10, 5, 0, 0),\n",
              "  datetime.datetime(2013, 10, 6, 0, 0),\n",
              "  datetime.datetime(2013, 10, 7, 0, 0),\n",
              "  datetime.datetime(2013, 10, 8, 0, 0),\n",
              "  datetime.datetime(2013, 10, 9, 0, 0),\n",
              "  datetime.datetime(2013, 10, 10, 0, 0)],\n",
              " [123.65499,\n",
              "  125.455,\n",
              "  108.58483,\n",
              "  118.67466,\n",
              "  121.33866,\n",
              "  120.65533,\n",
              "  121.795,\n",
              "  123.033,\n",
              "  124.049,\n",
              "  125.96116])"
            ]
          },
          "metadata": {
            "tags": []
          },
          "execution_count": 10
        }
      ]
    },
    {
      "cell_type": "code",
      "metadata": {
        "colab": {
          "base_uri": "https://localhost:8080/",
          "height": 442
        },
        "id": "bTSX7RZ9Cytj",
        "outputId": "1a2c0167-d363-4720-9cf6-1e0726d62155"
      },
      "source": [
        "# Plot from CSV\n",
        "import matplotlib.pyplot as plt\n",
        "import numpy as np\n",
        "plt.figure(figsize=(10, 7))\n",
        "plt.plot(timesteps, np.array(btc_price))\n",
        "plt.xlabel(\"Date\")\n",
        "plt.ylabel(\"BTC Price\");"
      ],
      "execution_count": 11,
      "outputs": [
        {
          "output_type": "display_data",
          "data": {
            "image/png": "[encoded data removed]",
            "text/plain": [
              "<Figure size 720x504 with 1 Axes>"
            ]
          },
          "metadata": {
            "tags": [],
            "needs_background": "light"
          }
        }
      ]
    },
    {
      "cell_type": "markdown",
      "metadata": {
        "id": "_nfP7i9R_dOp"
      },
      "source": [
        "## TODO: Format data \n",
        "\n",
        "* Turn data into a windowed dataset\n",
        "* Training/test sets for time series\n",
        "* Univariate - Bitcoin's price history\n",
        "* Multivariate - Bitcoin's price history + block size"
      ]
    },
    {
      "cell_type": "markdown",
      "metadata": {
        "id": "prkQhgiHNOKd"
      },
      "source": [
        "### TODO: Create train & test sets for time series\n",
        "\n",
        "* Note: cannot do random split, time series will buckle under this (using future values in the past)\n",
        "* Need to make train set: values from past, test set: values from \"future\""
      ]
    },
    {
      "cell_type": "code",
      "metadata": {
        "colab": {
          "base_uri": "https://localhost:8080/"
        },
        "id": "wxQbuGVTRFKX",
        "outputId": "6302e970-9ace-4d6b-9aa6-74e274d49b37"
      },
      "source": [
        "# Get bitcoin date array\n",
        "timesteps = bitcoin_prices.index.to_numpy()\n",
        "prices = bitcoin_prices[\"Price\"].to_numpy()\n",
        "\n",
        "timesteps[:10], prices[:10]"
      ],
      "execution_count": 12,
      "outputs": [
        {
          "output_type": "execute_result",
          "data": {
            "text/plain": [
              "(array(['2013-10-01T00:00:00.000000000', '2013-10-02T00:00:00.000000000',\n",
              "        '2013-10-03T00:00:00.000000000', '2013-10-04T00:00:00.000000000',\n",
              "        '2013-10-05T00:00:00.000000000', '2013-10-06T00:00:00.000000000',\n",
              "        '2013-10-07T00:00:00.000000000', '2013-10-08T00:00:00.000000000',\n",
              "        '2013-10-09T00:00:00.000000000', '2013-10-10T00:00:00.000000000'],\n",
              "       dtype='datetime64[ns]'),\n",
              " array([123.65499, 125.455  , 108.58483, 118.67466, 121.33866, 120.65533,\n",
              "        121.795  , 123.033  , 124.049  , 125.96116]))"
            ]
          },
          "metadata": {
            "tags": []
          },
          "execution_count": 12
        }
      ]
    },
    {
      "cell_type": "code",
      "metadata": {
        "colab": {
          "base_uri": "https://localhost:8080/"
        },
        "id": "eGY7hTfyNLZ1",
        "outputId": "40f9edbe-eeaa-49e3-8081-eb40194fedba"
      },
      "source": [
        "# Wrong way to make train/test sets for time series\n",
        "from sklearn.model_selection import train_test_split \n",
        "\n",
        "X_train, X_test, y_train, y_test = train_test_split(timesteps, # dates\n",
        "                                                    prices, # prices\n",
        "                                                    test_size=0.2,\n",
        "                                                    random_state=42)\n",
        "X_train.shape, X_test.shape, y_train.shape, y_test.shape "
      ],
      "execution_count": 13,
      "outputs": [
        {
          "output_type": "execute_result",
          "data": {
            "text/plain": [
              "((2229,), (558,), (2229,), (558,))"
            ]
          },
          "metadata": {
            "tags": []
          },
          "execution_count": 13
        }
      ]
    },
    {
      "cell_type": "code",
      "metadata": {
        "colab": {
          "base_uri": "https://localhost:8080/",
          "height": 442
        },
        "id": "cvH_0RvSNLWm",
        "outputId": "8122d2eb-29c0-46e6-e689-785bd41bd524"
      },
      "source": [
        "# Let's plot wrong train and test splits\n",
        "plt.figure(figsize=(10, 7))\n",
        "plt.scatter(X_train, y_train, s=5, label=\"Train data\")\n",
        "plt.scatter(X_test, y_test, s=5, label=\"Test data\")\n",
        "plt.xlabel(\"Date\")\n",
        "plt.ylabel(\"BTC Price\")\n",
        "plt.legend()\n",
        "plt.show();"
      ],
      "execution_count": 14,
      "outputs": [
        {
          "output_type": "display_data",
          "data": {
            "image/png": "[encoded data removed]",
            "text/plain": [
              "<Figure size 720x504 with 1 Axes>"
            ]
          },
          "metadata": {
            "tags": [],
            "needs_background": "light"
          }
        }
      ]
    },
    {
      "cell_type": "markdown",
      "metadata": {
        "id": "OK9sORtjRh5z"
      },
      "source": [
        "* TODO: Note: time series forecasting can often have many less data points than traditional deep learning projects (e.g. the entire history of BTC daily price data = only ~3000 samples)\n",
        "\n",
        "* TODO: What kind of steps should we predict? E.g. 80/20 split is that realisitic? You may want to use all of the data up until the last week..."
      ]
    },
    {
      "cell_type": "code",
      "metadata": {
        "colab": {
          "base_uri": "https://localhost:8080/"
        },
        "id": "lpEVKyXANLT4",
        "outputId": "7e616fa9-877e-46f5-8165-340521d3cfb3"
      },
      "source": [
        "# Create train and test splits the right way for time series data\n",
        "split_size = int(0.8 * len(prices)) # 80% train, 20% test\n",
        "\n",
        "# Create train data splits\n",
        "X_train, y_train = timesteps[:split_size], prices[:split_size]\n",
        "\n",
        "# Create test data splits\n",
        "X_test, y_test = timesteps[split_size:], prices[split_size:]\n",
        "\n",
        "X_train.shape, X_test.shape, y_train.shape, y_test.shape"
      ],
      "execution_count": 15,
      "outputs": [
        {
          "output_type": "execute_result",
          "data": {
            "text/plain": [
              "((2229,), (558,), (2229,), (558,))"
            ]
          },
          "metadata": {
            "tags": []
          },
          "execution_count": 15
        }
      ]
    },
    {
      "cell_type": "code",
      "metadata": {
        "colab": {
          "base_uri": "https://localhost:8080/",
          "height": 442
        },
        "id": "d8EKkT11Q_7W",
        "outputId": "90fbcf60-facf-477b-91a2-ed3f40ecfa80"
      },
      "source": [
        "# Plot correctly made splits\n",
        "plt.figure(figsize=(10, 7))\n",
        "plt.scatter(X_train, y_train, s=5, label=\"Train data\")\n",
        "plt.scatter(X_test, y_test, s=5, label=\"Test data\")\n",
        "plt.xlabel(\"Date\")\n",
        "plt.ylabel(\"BTC Price\")\n",
        "plt.legend()\n",
        "plt.show();"
      ],
      "execution_count": 16,
      "outputs": [
        {
          "output_type": "display_data",
          "data": {
            "image/png": "[encoded data removed]",
            "text/plain": [
              "<Figure size 720x504 with 1 Axes>"
            ]
          },
          "metadata": {
            "tags": [],
            "needs_background": "light"
          }
        }
      ]
    },
    {
      "cell_type": "markdown",
      "metadata": {
        "id": "cwSpQQRl_dHb"
      },
      "source": [
        "## TODO: Model data\n",
        "\n",
        "* Baseline - naive forecasting\n",
        "* Baseline 2 - moving average\n",
        "* Deep model - fully connected\n",
        "  * Fully connected with different size window/horizon\n",
        "* Sequence models\n",
        "  * LSTM\n",
        "  * Conv1D\n",
        "* N-Beats algorithm - https://arxiv.org/pdf/1905.10437.pdf"
      ]
    },
    {
      "cell_type": "markdown",
      "metadata": {
        "id": "JO1YAv7w_dE7"
      },
      "source": [
        "### Model 0: Naive forecast\n",
        "\n",
        "Naive forecast = Use the previous timestep to predict the next timestep\n",
        "\n",
        "$$\\hat{y}_{t} = y_{t-1}$$ "
      ]
    },
    {
      "cell_type": "code",
      "metadata": {
        "colab": {
          "base_uri": "https://localhost:8080/"
        },
        "id": "nCKGUO4OVos9",
        "outputId": "993d70ba-d158-41a2-db09-14034a75316d"
      },
      "source": [
        "naive_forecast = y_test[:-1]\n",
        "naive_forecast[:10]"
      ],
      "execution_count": 17,
      "outputs": [
        {
          "output_type": "execute_result",
          "data": {
            "text/plain": [
              "array([9226.48582088, 8794.35864452, 8798.04205463, 9081.18687849,\n",
              "       8711.53433917, 8760.89271814, 8749.52059102, 8656.97092235,\n",
              "       8500.64355816, 8469.2608989 ])"
            ]
          },
          "metadata": {
            "tags": []
          },
          "execution_count": 17
        }
      ]
    },
    {
      "cell_type": "code",
      "metadata": {
        "colab": {
          "base_uri": "https://localhost:8080/",
          "height": 442
        },
        "id": "a0NLHXDhWDX-",
        "outputId": "26560898-3817-48b0-9702-2d26dc3762ae"
      },
      "source": [
        "# Plot naive forecast\n",
        "plt.figure(figsize=(10, 7))\n",
        "plt.scatter(X_train, y_train, s=5, label=\"Train data\")\n",
        "plt.scatter(X_test, y_test, s=5, label=\"Test data\")\n",
        "plt.scatter(X_test[1:], naive_forecast, s=5, label=\"Naive forecast\")\n",
        "plt.xlabel(\"Date\")\n",
        "plt.ylabel(\"BTC Price\")\n",
        "plt.legend()\n",
        "plt.show();"
      ],
      "execution_count": 18,
      "outputs": [
        {
          "output_type": "display_data",
          "data": {
            "image/png": "[encoded data removed]",
            "text/plain": [
              "<Figure size 720x504 with 1 Axes>"
            ]
          },
          "metadata": {
            "tags": [],
            "needs_background": "light"
          }
        }
      ]
    },
    {
      "cell_type": "markdown",
      "metadata": {
        "id": "8Zj2p8NAkRLD"
      },
      "source": [
        "TODO: Replace the function below with the improved plot function for time series"
      ]
    },
    {
      "cell_type": "code",
      "metadata": {
        "id": "dx0wUhtOW_VX"
      },
      "source": [
        "def plot_zoomed_in(new_preds=None, new_preds_name=\"New Preds\", zoom_timesteps=100, plot_naive=True):\n",
        "  # Plot naive forecast zoomed in\n",
        "  plt.figure(figsize=(10, 7))\n",
        "  plt.plot(X_test[-zoom_timesteps:], y_test[-zoom_timesteps:], label=\"Test data\")\n",
        "  if plot_naive:\n",
        "    plt.plot(X_test[1:][-zoom_timesteps:], naive_forecast[-zoom_timesteps:], label=\"Naive forecast\")\n",
        "  if new_preds != None:\n",
        "    plt.plot(X_test[-zoom_timesteps:], new_preds[-zoom_timesteps:], label=new_preds_name)\n",
        "  plt.xlabel(\"Date\")\n",
        "  plt.ylabel(\"BTC Price\")\n",
        "  plt.legend()\n",
        "  plt.show();"
      ],
      "execution_count": 19,
      "outputs": []
    },
    {
      "cell_type": "code",
      "metadata": {
        "colab": {
          "base_uri": "https://localhost:8080/",
          "height": 442
        },
        "id": "E1gbUOr3U5Vt",
        "outputId": "7429db2c-3121-4d00-c219-e7d8d31f498e"
      },
      "source": [
        "plot_zoomed_in()"
      ],
      "execution_count": 20,
      "outputs": [
        {
          "output_type": "display_data",
          "data": {
            "image/png": "[encoded data removed]",
            "text/plain": [
              "<Figure size 720x504 with 1 Axes>"
            ]
          },
          "metadata": {
            "tags": [],
            "needs_background": "light"
          }
        }
      ]
    },
    {
      "cell_type": "markdown",
      "metadata": {
        "id": "UdK4KoFnA90I"
      },
      "source": [
        "## TODO: Evaluating a time series model\n",
        "\n",
        "TK - this can be a function for each model (compares predictions to ground truth...)\n",
        "\n",
        "TK - metrics for evaluating time series models: https://otexts.com/fpp2/accuracy.html"
      ]
    },
    {
      "cell_type": "code",
      "metadata": {
        "id": "ljaO69huYCZD"
      },
      "source": [
        "import tensorflow as tf"
      ],
      "execution_count": 21,
      "outputs": []
    },
    {
      "cell_type": "code",
      "metadata": {
        "id": "ZaSHxVMqYBnG"
      },
      "source": [
        "def scaled_mape(y_true, y_pred):\n",
        "  return tf.reduce_mean(200 * (tf.abs(y_true - y_pred)/(tf.abs(y_true) + tf.abs(y_pred))))"
      ],
      "execution_count": 22,
      "outputs": []
    },
    {
      "cell_type": "code",
      "metadata": {
        "id": "MwMeVgRXWaJp"
      },
      "source": [
        "def evaluate_preds(y_true, y_pred, use_window=True, window_size=10):\n",
        "  # TODO: does this need to go from Numpy -> tensorflow -> Numpy??\n",
        "  # TODO: could use sklearn to fix the above\n",
        "\n",
        "  # Account for window size\n",
        "  if use_window:\n",
        "    y_true = y_true[window_size:]\n",
        "  \n",
        "  # Turn into tensors\n",
        "  y_true = tf.constant(y_true, dtype=tf.float32)\n",
        "  y_pred = tf.constant(y_pred, dtype=tf.float32)\n",
        "\n",
        "  # Calculate various metrics\n",
        "  mae = tf.keras.metrics.mean_absolute_error(y_true, y_pred)\n",
        "  mse = tf.keras.metrics.mean_squared_error(y_true, y_pred)\n",
        "  mape = tf.keras.metrics.mean_absolute_percentage_error(y_true, y_pred)\n",
        "  smape = scaled_mape(y_true, y_pred)\n",
        "  return {\"mae\": mae.numpy(),\n",
        "          \"mse\": mse.numpy(),\n",
        "          \"mape\": mape.numpy(),\n",
        "          \"smape\": smape.numpy()}"
      ],
      "execution_count": 23,
      "outputs": []
    },
    {
      "cell_type": "code",
      "metadata": {
        "colab": {
          "base_uri": "https://localhost:8080/"
        },
        "id": "HbJlsvUwYEsf",
        "outputId": "4c65e6d0-a83d-4471-9c70-dfbfafad7a77"
      },
      "source": [
        "naive_results = evaluate_preds(y_true=y_test[1:],\n",
        "                               y_pred=naive_forecast,\n",
        "                               use_window=False)\n",
        "naive_results"
      ],
      "execution_count": 24,
      "outputs": [
        {
          "output_type": "execute_result",
          "data": {
            "text/plain": [
              "{'mae': 567.9802, 'mape': 2.516525, 'mse': 1147547.0, 'smape': 2.5180573}"
            ]
          },
          "metadata": {
            "tags": []
          },
          "execution_count": 24
        }
      ]
    },
    {
      "cell_type": "markdown",
      "metadata": {
        "id": "QNnFzKhzMaOC"
      },
      "source": [
        "## TODO: Model 1: Moving average\n",
        "\n",
        "TK - moving average can be our second baseline agaisnt the rest of the data..., this will still probably be another hard model to beat"
      ]
    },
    {
      "cell_type": "code",
      "metadata": {
        "id": "P_imOjoUMm3r"
      },
      "source": [
        ""
      ],
      "execution_count": null,
      "outputs": []
    },
    {
      "cell_type": "code",
      "metadata": {
        "id": "F5qwcAw0Mzey"
      },
      "source": [
        ""
      ],
      "execution_count": null,
      "outputs": []
    },
    {
      "cell_type": "code",
      "metadata": {
        "id": "84n0FKuIMzXl"
      },
      "source": [
        ""
      ],
      "execution_count": null,
      "outputs": []
    },
    {
      "cell_type": "code",
      "metadata": {
        "id": "NJva8UgKMzS8"
      },
      "source": [
        ""
      ],
      "execution_count": null,
      "outputs": []
    },
    {
      "cell_type": "markdown",
      "metadata": {
        "id": "e8AzwUvjBkgY"
      },
      "source": [
        "## Windowing dataset\n",
        "\n",
        "Why do we window?\n",
        "\n",
        "TODO: We can turn our time series data into a **supervised learning problem**: use windows of the past to predict the future."
      ]
    },
    {
      "cell_type": "code",
      "metadata": {
        "colab": {
          "base_uri": "https://localhost:8080/"
        },
        "id": "nIo5R-I8ZJZS",
        "outputId": "2c6852a8-2212-450b-be7e-4513c377e848"
      },
      "source": [
        "X_train, y_train"
      ],
      "execution_count": 25,
      "outputs": [
        {
          "output_type": "execute_result",
          "data": {
            "text/plain": [
              "(array(['2013-10-01T00:00:00.000000000', '2013-10-02T00:00:00.000000000',\n",
              "        '2013-10-03T00:00:00.000000000', ...,\n",
              "        '2019-11-05T00:00:00.000000000', '2019-11-06T00:00:00.000000000',\n",
              "        '2019-11-07T00:00:00.000000000'], dtype='datetime64[ns]'),\n",
              " array([ 123.65499   ,  125.455     ,  108.58483   , ..., 9369.62808116,\n",
              "        9326.59962378, 9335.75240233]))"
            ]
          },
          "metadata": {
            "tags": []
          },
          "execution_count": 25
        }
      ]
    },
    {
      "cell_type": "code",
      "metadata": {
        "colab": {
          "base_uri": "https://localhost:8080/"
        },
        "id": "V413SOWmZJVW",
        "outputId": "14b63ce5-be54-4e13-d4fe-cf097a58f818"
      },
      "source": [
        "X_test[:10], y_test[:10]"
      ],
      "execution_count": 26,
      "outputs": [
        {
          "output_type": "execute_result",
          "data": {
            "text/plain": [
              "(array(['2019-11-08T00:00:00.000000000', '2019-11-09T00:00:00.000000000',\n",
              "        '2019-11-10T00:00:00.000000000', '2019-11-11T00:00:00.000000000',\n",
              "        '2019-11-12T00:00:00.000000000', '2019-11-13T00:00:00.000000000',\n",
              "        '2019-11-14T00:00:00.000000000', '2019-11-15T00:00:00.000000000',\n",
              "        '2019-11-16T00:00:00.000000000', '2019-11-17T00:00:00.000000000'],\n",
              "       dtype='datetime64[ns]'),\n",
              " array([9226.48582088, 8794.35864452, 8798.04205463, 9081.18687849,\n",
              "        8711.53433917, 8760.89271814, 8749.52059102, 8656.97092235,\n",
              "        8500.64355816, 8469.2608989 ]))"
            ]
          },
          "metadata": {
            "tags": []
          },
          "execution_count": 26
        }
      ]
    },
    {
      "cell_type": "markdown",
      "metadata": {
        "id": "IxZ6h88QZfOs"
      },
      "source": [
        "Want:\n",
        "\n",
        "```\n",
        "# Window for a week (univariate time series)\n",
        "[0, 1, 2, 3, 4, 5, 6] -> [7]\n",
        "[1, 2, 3, 4, 5, 6, 7] -> [8]\n",
        "[2, 3, 4, 5, 6, 7, 8] -> [9]\n",
        "```"
      ]
    },
    {
      "cell_type": "code",
      "metadata": {
        "id": "LibzWQXM2ib-"
      },
      "source": [
        "# Make windows of size 10\n",
        "WINDOW_SIZE = 10\n",
        "HORIZON = 14 # predict 1 step at a time"
      ],
      "execution_count": 79,
      "outputs": []
    },
    {
      "cell_type": "code",
      "metadata": {
        "id": "zV8pv5K_x81E"
      },
      "source": [
        "# Create function to label windowed data\n",
        "def get_labelled_windows(x, horizon=1):\n",
        "  \"\"\"\n",
        "  Creates labels for windowed dataset.\n",
        "\n",
        "  E.g. if horizon=1 (default)\n",
        "  [1, 2, 3, 4, 5, 6] -> ([1, 2, 3, 4, 5], [6])\n",
        "  \"\"\"\n",
        "  return x[:, :-horizon], x[:, -horizon:]"
      ],
      "execution_count": 80,
      "outputs": []
    },
    {
      "cell_type": "code",
      "metadata": {
        "id": "apea0wiJyCI6"
      },
      "source": [
        "# Create function to view NumPy arrays as windows\n",
        "def make_windows(x, window_size=10, horizon=1):\n",
        "  \"\"\"\n",
        "  Turns a 1D array into a 2D array of sequential windows of window_size.\n",
        "  \"\"\"\n",
        "  # print(len(x)-1)\n",
        "  window_step = np.expand_dims(np.arange(window_size+horizon), axis=0) # create 2D array of window_size\n",
        "  # print(f\"Window step:\\n {window_step[-5:]}\")\n",
        "  window_indexes = window_step + np.expand_dims(np.arange((len(x)+1)-(window_size+horizon)), axis=0).T # create 2D array of windows of size window_size\n",
        "  # print(f\"Window indexes:\\n {window_indexes[:2], window_indexes[-2:]}\")\n",
        "  windowed_array = x[window_indexes] # get the original array indexed with windows\n",
        "  windows, labels = get_labelled_windows(windowed_array, horizon=horizon)\n",
        "  return windows, labels"
      ],
      "execution_count": 115,
      "outputs": []
    },
    {
      "cell_type": "code",
      "metadata": {
        "colab": {
          "base_uri": "https://localhost:8080/"
        },
        "id": "4wnt-vr8zL_W",
        "outputId": "0d54c009-0ae1-47d3-8b3c-98bfa3ffd9dc"
      },
      "source": [
        "# TODO: Create full windowed dataset\n",
        "# The full windowed dataset will allow us to make predictions on our data with aligned timesteps\n",
        "full_windows, full_labels = make_windows(prices, window_size=WINDOW_SIZE, horizon=HORIZON)\n",
        "\n",
        "# Create supervised datasets (use 10 timesteps (WINDOW_SIZE) to predict next 1 timestep (HORIZON))\n",
        "train_windows, train_labels = make_windows(y_train, window_size=WINDOW_SIZE, horizon=HORIZON)\n",
        "test_windows, test_labels = make_windows(y_test, window_size=WINDOW_SIZE, horizon=HORIZON)\n",
        "train_windows[:5], train_labels[:5]"
      ],
      "execution_count": 116,
      "outputs": [
        {
          "output_type": "execute_result",
          "data": {
            "text/plain": [
              "(array([[123.65499, 125.455  , 108.58483, 118.67466, 121.33866, 120.65533,\n",
              "         121.795  , 123.033  , 124.049  , 125.96116],\n",
              "        [125.455  , 108.58483, 118.67466, 121.33866, 120.65533, 121.795  ,\n",
              "         123.033  , 124.049  , 125.96116, 125.27966],\n",
              "        [108.58483, 118.67466, 121.33866, 120.65533, 121.795  , 123.033  ,\n",
              "         124.049  , 125.96116, 125.27966, 125.9275 ],\n",
              "        [118.67466, 121.33866, 120.65533, 121.795  , 123.033  , 124.049  ,\n",
              "         125.96116, 125.27966, 125.9275 , 126.38333],\n",
              "        [121.33866, 120.65533, 121.795  , 123.033  , 124.049  , 125.96116,\n",
              "         125.27966, 125.9275 , 126.38333, 135.24199]]),\n",
              " array([[125.27966, 125.9275 , 126.38333, 135.24199, 133.20333, 142.76333,\n",
              "         137.92333, 142.95166, 152.55183, 160.33883, 164.31499, 177.63333,\n",
              "         188.29716, 200.70166],\n",
              "        [125.9275 , 126.38333, 135.24199, 133.20333, 142.76333, 137.92333,\n",
              "         142.95166, 152.55183, 160.33883, 164.31499, 177.63333, 188.29716,\n",
              "         200.70166, 180.355  ],\n",
              "        [126.38333, 135.24199, 133.20333, 142.76333, 137.92333, 142.95166,\n",
              "         152.55183, 160.33883, 164.31499, 177.63333, 188.29716, 200.70166,\n",
              "         180.355  , 175.03166],\n",
              "        [135.24199, 133.20333, 142.76333, 137.92333, 142.95166, 152.55183,\n",
              "         160.33883, 164.31499, 177.63333, 188.29716, 200.70166, 180.355  ,\n",
              "         175.03166, 177.6965 ],\n",
              "        [133.20333, 142.76333, 137.92333, 142.95166, 152.55183, 160.33883,\n",
              "         164.31499, 177.63333, 188.29716, 200.70166, 180.355  , 175.03166,\n",
              "         177.6965 , 187.15983]]))"
            ]
          },
          "metadata": {
            "tags": []
          },
          "execution_count": 116
        }
      ]
    },
    {
      "cell_type": "code",
      "metadata": {
        "colab": {
          "base_uri": "https://localhost:8080/"
        },
        "id": "r5m6W2KzxhrB",
        "outputId": "8d312cad-91e0-4b46-8af6-e3200ea3bbe8"
      },
      "source": [
        "len(full_windows)"
      ],
      "execution_count": 102,
      "outputs": [
        {
          "output_type": "execute_result",
          "data": {
            "text/plain": [
              "2764"
            ]
          },
          "metadata": {
            "tags": []
          },
          "execution_count": 102
        }
      ]
    },
    {
      "cell_type": "code",
      "metadata": {
        "colab": {
          "base_uri": "https://localhost:8080/"
        },
        "id": "rPN02T5QxjS7",
        "outputId": "0f753d2e-fbf2-40ba-964d-899c876ad7e9"
      },
      "source": [
        "len(prices) - WINDOW_SIZE-HORIZON+1"
      ],
      "execution_count": 107,
      "outputs": [
        {
          "output_type": "execute_result",
          "data": {
            "text/plain": [
              "2764"
            ]
          },
          "metadata": {
            "tags": []
          },
          "execution_count": 107
        }
      ]
    },
    {
      "cell_type": "markdown",
      "metadata": {
        "id": "j5uw1AaVY-J9"
      },
      "source": [
        "## TODO: Model X: Dense model "
      ]
    },
    {
      "cell_type": "code",
      "metadata": {
        "id": "Fadbh94rY-WQ"
      },
      "source": [
        "import tensorflow as tf\n",
        "from tensorflow.keras import layers"
      ],
      "execution_count": 31,
      "outputs": []
    },
    {
      "cell_type": "code",
      "metadata": {
        "colab": {
          "base_uri": "https://localhost:8080/"
        },
        "id": "T3ytqCyZ3O4T",
        "outputId": "4883092a-15ee-4e8c-c4f0-b41cc1ba16c2"
      },
      "source": [
        "len(train_windows), len(test_windows), len(full_windows)"
      ],
      "execution_count": 33,
      "outputs": [
        {
          "output_type": "execute_result",
          "data": {
            "text/plain": [
              "(2219, 548, 2777)"
            ]
          },
          "metadata": {
            "tags": []
          },
          "execution_count": 33
        }
      ]
    },
    {
      "cell_type": "code",
      "metadata": {
        "id": "Slr5hrJHY_Ed",
        "colab": {
          "base_uri": "https://localhost:8080/"
        },
        "outputId": "c9d8450b-2d5f-4f6e-efb5-d6396ba0119f"
      },
      "source": [
        "model_1 = tf.keras.Sequential([\n",
        "  layers.Dense(128, activation=\"relu\"),\n",
        "  layers.Dense(1)                              \n",
        "], name=\"model_1_dense\")\n",
        "\n",
        "model_1.compile(loss=\"mae\",\n",
        "                optimizer=tf.keras.optimizers.Adam())\n",
        "\n",
        "model_1.fit(x=train_windows, \n",
        "            y=train_labels,\n",
        "            epochs=10,\n",
        "            validation_data=(test_windows, test_labels))"
      ],
      "execution_count": 34,
      "outputs": [
        {
          "output_type": "stream",
          "text": [
            "Epoch 1/10\n",
            "70/70 [==============================] - 1s 7ms/step - loss: 930.9585 - val_loss: 1116.5820\n",
            "Epoch 2/10\n",
            "70/70 [==============================] - 0s 2ms/step - loss: 193.4116 - val_loss: 1148.4115\n",
            "Epoch 3/10\n",
            "70/70 [==============================] - 0s 2ms/step - loss: 185.1561 - val_loss: 941.8782\n",
            "Epoch 4/10\n",
            "70/70 [==============================] - 0s 2ms/step - loss: 183.0092 - val_loss: 931.1248\n",
            "Epoch 5/10\n",
            "70/70 [==============================] - 0s 2ms/step - loss: 162.0586 - val_loss: 838.7227\n",
            "Epoch 6/10\n",
            "70/70 [==============================] - 0s 2ms/step - loss: 146.3403 - val_loss: 886.6812\n",
            "Epoch 7/10\n",
            "70/70 [==============================] - 0s 2ms/step - loss: 141.9299 - val_loss: 759.2231\n",
            "Epoch 8/10\n",
            "70/70 [==============================] - 0s 2ms/step - loss: 152.1711 - val_loss: 756.4796\n",
            "Epoch 9/10\n",
            "70/70 [==============================] - 0s 2ms/step - loss: 154.6451 - val_loss: 709.1159\n",
            "Epoch 10/10\n",
            "70/70 [==============================] - 0s 2ms/step - loss: 130.6320 - val_loss: 730.5511\n"
          ],
          "name": "stdout"
        },
        {
          "output_type": "execute_result",
          "data": {
            "text/plain": [
              "<tensorflow.python.keras.callbacks.History at 0x7f7fe1cc77d0>"
            ]
          },
          "metadata": {
            "tags": []
          },
          "execution_count": 34
        }
      ]
    },
    {
      "cell_type": "code",
      "metadata": {
        "id": "N1DbcEZBY_Bt",
        "colab": {
          "base_uri": "https://localhost:8080/"
        },
        "outputId": "5e0970ca-290e-4fc0-ffbd-97a702053c65"
      },
      "source": [
        "# Evaluate\n",
        "model_1.evaluate(test_windows, test_labels)"
      ],
      "execution_count": 35,
      "outputs": [
        {
          "output_type": "stream",
          "text": [
            "18/18 [==============================] - 0s 1ms/step - loss: 730.5511\n"
          ],
          "name": "stdout"
        },
        {
          "output_type": "execute_result",
          "data": {
            "text/plain": [
              "730.5510864257812"
            ]
          },
          "metadata": {
            "tags": []
          },
          "execution_count": 35
        }
      ]
    },
    {
      "cell_type": "markdown",
      "metadata": {
        "id": "-HfeTX5KhYin"
      },
      "source": [
        "### TODO: Making forecasts with a model\n",
        "\n",
        "* We could make forecasts on the test windows, however this would end up in less prediction values than in the `y_test`\n",
        "* Instead, we're going to make predictions on the full dataset windows "
      ]
    },
    {
      "cell_type": "code",
      "metadata": {
        "id": "hZrExWzyh3ur"
      },
      "source": [
        "def make_forecast(model, input_data, window_size, split_size):\n",
        "  \"\"\"\n",
        "  Uses model to make forecasts on input_data.\n",
        "\n",
        "  Input_data must be windowed version of whole dataset, otherwise forecasts won't match size of y_test.\n",
        "\n",
        "  Parameters\n",
        "  ----------\n",
        "  model: trained model \n",
        "  input_data: windowed input data (with windiw_size windows)\n",
        "  window_size: size of window used to window input_data\n",
        "  split_size: index where train and test split takes place\n",
        "\n",
        "  Returns model forecast on input_data from split_size-window_size onwards.\n",
        "  \"\"\"\n",
        "  forecast = model.predict(input_data)\n",
        "  # Adjust forecast size (only want split_size-window_size onwards)\n",
        "  forecast = forecast[split_size-window_size:]\n",
        "  return tf.squeeze(forecast) # return 1D array of predictions "
      ],
      "execution_count": 36,
      "outputs": []
    },
    {
      "cell_type": "code",
      "metadata": {
        "id": "pJ3jHu9Sit8w"
      },
      "source": [
        "model_1_preds = make_forecast(model_1, \n",
        "                              input_data=full_windows, \n",
        "                              window_size=WINDOW_SIZE, \n",
        "                              split_size=split_size)"
      ],
      "execution_count": 37,
      "outputs": []
    },
    {
      "cell_type": "code",
      "metadata": {
        "colab": {
          "base_uri": "https://localhost:8080/"
        },
        "id": "uxL_PJ2S02qK",
        "outputId": "a10d6bbd-f93e-45ef-f02d-a3c7a569bfdd"
      },
      "source": [
        "# Evaluate preds\n",
        "model_1_results = evaluate_preds(y_true=y_test,\n",
        "                                 y_pred=model_1_preds,\n",
        "                                 use_window=False,\n",
        "                                 window_size=WINDOW_SIZE)\n",
        "model_1_results"
      ],
      "execution_count": 38,
      "outputs": [
        {
          "output_type": "execute_result",
          "data": {
            "text/plain": [
              "{'mae': 720.00653, 'mape': 3.2436562, 'mse': 1650482.9, 'smape': 3.2771423}"
            ]
          },
          "metadata": {
            "tags": []
          },
          "execution_count": 38
        }
      ]
    },
    {
      "cell_type": "code",
      "metadata": {
        "colab": {
          "base_uri": "https://localhost:8080/"
        },
        "id": "nBGC3IkE22bw",
        "outputId": "165c0ec1-98b4-4a33-972a-3e355eafdb3d"
      },
      "source": [
        "naive_results"
      ],
      "execution_count": 39,
      "outputs": [
        {
          "output_type": "execute_result",
          "data": {
            "text/plain": [
              "{'mae': 567.9802, 'mape': 2.516525, 'mse': 1147547.0, 'smape': 2.5180573}"
            ]
          },
          "metadata": {
            "tags": []
          },
          "execution_count": 39
        }
      ]
    },
    {
      "cell_type": "code",
      "metadata": {
        "id": "Pmm8HkpuC-ya"
      },
      "source": [
        "# Create a function to plot time series data\n",
        "def plot_time_series(timesteps, values, format='-', start=0, end=None, label=None):\n",
        "  # Plot the series\n",
        "  plt.plot(timesteps[start:end], values[start:end], format, label=label)\n",
        "  plt.xlabel(\"Time\")\n",
        "  plt.ylabel(\"BTC Price\")\n",
        "  if label:\n",
        "    plt.legend(fontsize=14)\n",
        "  plt.grid(True)"
      ],
      "execution_count": 40,
      "outputs": []
    },
    {
      "cell_type": "code",
      "metadata": {
        "colab": {
          "base_uri": "https://localhost:8080/",
          "height": 442
        },
        "id": "wFKZFKBhE2Ng",
        "outputId": "9138ef62-70c5-4fd7-f123-1f2052578216"
      },
      "source": [
        "plt.figure(figsize=(10, 7))\n",
        "plot_time_series(timesteps=X_train, values=y_train, label=\"train_data\")\n",
        "plot_time_series(timesteps=X_test, values=y_test, label=\"test_data\")"
      ],
      "execution_count": 41,
      "outputs": [
        {
          "output_type": "display_data",
          "data": {
            "image/png": "[encoded data removed]",
            "text/plain": [
              "<Figure size 720x504 with 1 Axes>"
            ]
          },
          "metadata": {
            "tags": [],
            "needs_background": "light"
          }
        }
      ]
    },
    {
      "cell_type": "code",
      "metadata": {
        "colab": {
          "base_uri": "https://localhost:8080/",
          "height": 442
        },
        "id": "Wgxoqg_tIhFJ",
        "outputId": "73359c1a-8650-494f-ad76-75cad3bb7e53"
      },
      "source": [
        "plt.figure(figsize=(10, 7))\n",
        "plot_time_series(timesteps=X_train, values=y_train, label=\"train_data\")\n",
        "plot_time_series(timesteps=X_test, values=y_test, label=\"test_data\")\n",
        "plot_time_series(timesteps=X_test, values=model_1_preds, label=\"model_1_preds\")"
      ],
      "execution_count": 247,
      "outputs": [
        {
          "output_type": "display_data",
          "data": {
            "image/png": "[encoded data removed]",
            "text/plain": [
              "<Figure size 720x504 with 1 Axes>"
            ]
          },
          "metadata": {
            "tags": [],
            "needs_background": "light"
          }
        }
      ]
    },
    {
      "cell_type": "code",
      "metadata": {
        "colab": {
          "base_uri": "https://localhost:8080/",
          "height": 442
        },
        "id": "ccBm_aEBIzPN",
        "outputId": "b0c325ae-74f7-4056-a956-1b73fe0b0688"
      },
      "source": [
        "plt.figure(figsize=(10, 7))\n",
        "start=300\n",
        "plot_time_series(timesteps=X_test, values=y_test, start=start, label=\"test_data\")\n",
        "plot_time_series(timesteps=X_test[:-1], values=naive_forecast, start=start, label=\"naive_forecast\")\n",
        "plot_time_series(timesteps=X_test, values=model_1_preds, start=start, label=\"model_1_preds_windows\")"
      ],
      "execution_count": 50,
      "outputs": [
        {
          "output_type": "display_data",
          "data": {
            "image/png": "[encoded data removed]",
            "text/plain": [
              "<Figure size 720x504 with 1 Axes>"
            ]
          },
          "metadata": {
            "tags": [],
            "needs_background": "light"
          }
        }
      ]
    },
    {
      "cell_type": "markdown",
      "metadata": {
        "id": "fr18ffVq4i6m"
      },
      "source": [
        "## TODO: Model X: Larger window + horizon\n",
        "\n",
        "TK - What happens if we make a larger window & horizon?\n",
        "\n",
        "* TK - Window & horizon values are values you can tune..."
      ]
    },
    {
      "cell_type": "code",
      "metadata": {
        "id": "Vz0eMi7F4wpn"
      },
      "source": [
        "HORIZON = 7 # predict two weeks at a time\n",
        "WINDOW_SIZE = 30 # use 140 timesteps in the past"
      ],
      "execution_count": 320,
      "outputs": []
    },
    {
      "cell_type": "code",
      "metadata": {
        "colab": {
          "base_uri": "https://localhost:8080/"
        },
        "id": "1HlYaAxr6UoC",
        "outputId": "f5b5295d-f918-4d55-b9f7-49f7a33b0d3a"
      },
      "source": [
        "full_windows, full_labels = make_windows(prices, window_size=WINDOW_SIZE, horizon=HORIZON)\n",
        "train_windows, train_labels = make_windows(y_train, window_size=WINDOW_SIZE, horizon=HORIZON)\n",
        "test_windows, test_labels = make_windows(y_test, window_size=WINDOW_SIZE, horizon=HORIZON)\n",
        "train_windows[0], train_labels[0]"
      ],
      "execution_count": 321,
      "outputs": [
        {
          "output_type": "execute_result",
          "data": {
            "text/plain": [
              "(array([123.65499, 125.455  , 108.58483, 118.67466, 121.33866, 120.65533,\n",
              "        121.795  , 123.033  , 124.049  , 125.96116, 125.27966, 125.9275 ,\n",
              "        126.38333, 135.24199, 133.20333, 142.76333, 137.92333, 142.95166,\n",
              "        152.55183, 160.33883, 164.31499, 177.63333, 188.29716, 200.70166,\n",
              "        180.355  , 175.03166, 177.6965 , 187.15983, 192.75666, 197.4    ]),\n",
              " array([196.02499, 198.04883, 198.93233, 200.543  , 210.3075 , 225.02   ,\n",
              "        248.25333]))"
            ]
          },
          "metadata": {
            "tags": []
          },
          "execution_count": 321
        }
      ]
    },
    {
      "cell_type": "code",
      "metadata": {
        "colab": {
          "base_uri": "https://localhost:8080/"
        },
        "id": "b_oz5aJE6UwN",
        "outputId": "0a169ed6-788a-47cf-a6f2-110c49eab040"
      },
      "source": [
        "model_2 = tf.keras.Sequential([\n",
        "  layers.Dense(128, activation=\"relu\"),\n",
        "  layers.Dense(HORIZON) # need to predict horizon number of steps into the future\n",
        "])\n",
        "\n",
        "model_2.compile(loss=\"mae\",\n",
        "                optimizer=tf.keras.optimizers.Adam())\n",
        "\n",
        "model_2.fit(train_windows,\n",
        "            train_labels,\n",
        "            epochs=5,\n",
        "            validation_data=(test_windows, test_labels))"
      ],
      "execution_count": 322,
      "outputs": [
        {
          "output_type": "stream",
          "text": [
            "Epoch 1/5\n",
            "69/69 [==============================] - 1s 4ms/step - loss: 1324.7590 - val_loss: 2197.2915\n",
            "Epoch 2/5\n",
            "69/69 [==============================] - 0s 2ms/step - loss: 378.6516 - val_loss: 1888.9934\n",
            "Epoch 3/5\n",
            "69/69 [==============================] - 0s 2ms/step - loss: 341.2505 - val_loss: 1755.2900\n",
            "Epoch 4/5\n",
            "69/69 [==============================] - 0s 2ms/step - loss: 333.3214 - val_loss: 1625.4309\n",
            "Epoch 5/5\n",
            "69/69 [==============================] - 0s 2ms/step - loss: 308.6881 - val_loss: 1761.1775\n"
          ],
          "name": "stdout"
        },
        {
          "output_type": "execute_result",
          "data": {
            "text/plain": [
              "<tensorflow.python.keras.callbacks.History at 0x7f7fd1fefb50>"
            ]
          },
          "metadata": {
            "tags": []
          },
          "execution_count": 322
        }
      ]
    },
    {
      "cell_type": "code",
      "metadata": {
        "id": "W42Fa-aO8rhg",
        "colab": {
          "base_uri": "https://localhost:8080/"
        },
        "outputId": "30df7540-6197-4368-e3fd-b2c94c9ac5e9"
      },
      "source": [
        "# Evaluate model 2 preds\n",
        "model_2.evaluate(test_windows, test_labels)"
      ],
      "execution_count": 323,
      "outputs": [
        {
          "output_type": "stream",
          "text": [
            "17/17 [==============================] - 0s 1ms/step - loss: 1761.1775\n"
          ],
          "name": "stdout"
        },
        {
          "output_type": "execute_result",
          "data": {
            "text/plain": [
              "1761.177490234375"
            ]
          },
          "metadata": {
            "tags": []
          },
          "execution_count": 323
        }
      ]
    },
    {
      "cell_type": "markdown",
      "metadata": {
        "id": "sUZkJAnSugjv"
      },
      "source": [
        "TODO: We need to change our make_forecast() function to work with multiple dimensions of horizons..."
      ]
    },
    {
      "cell_type": "code",
      "metadata": {
        "id": "Qcm8gBqkmuj9"
      },
      "source": [
        "# TODO: Update make_forecasts to work with multiple different horizon sizes...\n",
        "def make_forecast(model, input_data, window_size, split_size):\n",
        "  \"\"\"\n",
        "  Uses model to make forecasts on input_data.\n",
        "\n",
        "  Input_data must be windowed version of whole dataset, otherwise forecasts won't match size of y_test.\n",
        "\n",
        "  Parameters\n",
        "  ----------\n",
        "  model: trained model \n",
        "  input_data: windowed input data (with windiw_size windows)\n",
        "  window_size: size of window used to window input_data\n",
        "  split_size: index where train and test split takes place\n",
        "\n",
        "  Returns model forecast on input_data from split_size-window_size onwards.\n",
        "  \"\"\"\n",
        "  forecast = model.predict(input_data)\n",
        "  print(len(forecast))\n",
        "  # Adjust forecast size (only want split_size-window_size onwards)\n",
        "  forecast = forecast[split_size-window_size:]\n",
        "  print(len(forecast))\n",
        "  if forecast.ndim > 1: # adjust forecasts for larger horizons\n",
        "    forecast = tf.reduce_mean(forecast, axis=1)\n",
        "  return tf.squeeze(forecast) # return 1D array of predictions "
      ],
      "execution_count": 324,
      "outputs": []
    },
    {
      "cell_type": "code",
      "metadata": {
        "colab": {
          "base_uri": "https://localhost:8080/"
        },
        "id": "TPfvPgkUknY5",
        "outputId": "36c5a201-40bc-457b-ad1f-7575097cd457"
      },
      "source": [
        "# Get forecast predictions\n",
        "model_2_preds = make_forecast(model_2,\n",
        "                              input_data=full_windows,\n",
        "                              window_size=WINDOW_SIZE,\n",
        "                              split_size=split_size)"
      ],
      "execution_count": 325,
      "outputs": [
        {
          "output_type": "stream",
          "text": [
            "2751\n",
            "552\n"
          ],
          "name": "stdout"
        }
      ]
    },
    {
      "cell_type": "code",
      "metadata": {
        "colab": {
          "base_uri": "https://localhost:8080/"
        },
        "id": "PGbTLohj4YiX",
        "outputId": "48b6f6b3-aa22-442d-8892-1c08584f8fc9"
      },
      "source": [
        "len(model_2_preds)"
      ],
      "execution_count": 326,
      "outputs": [
        {
          "output_type": "execute_result",
          "data": {
            "text/plain": [
              "552"
            ]
          },
          "metadata": {
            "tags": []
          },
          "execution_count": 326
        }
      ]
    },
    {
      "cell_type": "code",
      "metadata": {
        "colab": {
          "base_uri": "https://localhost:8080/"
        },
        "id": "uc2P_N-r34SS",
        "outputId": "e1a0c048-8a95-4e48-ade0-cbc8f4878b55"
      },
      "source": [
        "len(y_test)"
      ],
      "execution_count": 327,
      "outputs": [
        {
          "output_type": "execute_result",
          "data": {
            "text/plain": [
              "558"
            ]
          },
          "metadata": {
            "tags": []
          },
          "execution_count": 327
        }
      ]
    },
    {
      "cell_type": "code",
      "metadata": {
        "colab": {
          "base_uri": "https://localhost:8080/"
        },
        "id": "N2YvqWb_qws3",
        "outputId": "a85059ab-180f-47e3-95cb-5e02d48c97c7"
      },
      "source": [
        "model_2_preds[:10]"
      ],
      "execution_count": 328,
      "outputs": [
        {
          "output_type": "execute_result",
          "data": {
            "text/plain": [
              "<tf.Tensor: shape=(10,), dtype=float32, numpy=\n",
              "array([9283.643, 9332.413, 9211.457, 9159.795, 9061.995, 8920.567,\n",
              "       8741.007, 8710.783, 8734.531, 8723.543], dtype=float32)>"
            ]
          },
          "metadata": {
            "tags": []
          },
          "execution_count": 328
        }
      ]
    },
    {
      "cell_type": "code",
      "metadata": {
        "id": "sI3qHgZk0M39"
      },
      "source": [
        "def evaluate_preds(y_true, y_pred, use_window=False, window_size=WINDOW_SIZE, horizon=HORIZON):\n",
        "  # TODO: does this need to go from Numpy -> tensorflow -> Numpy??\n",
        "  # TODO: could use sklearn to fix the above\n",
        "\n",
        "  # Account for window size\n",
        "  if use_window:\n",
        "    y_true = y_true[window_size:]\n",
        "\n",
        "  # Adjust for HORIZON over 1\n",
        "  if horizon > 1:\n",
        "    y_true = y_true[:-horizon+1]\n",
        "  \n",
        "  # # Turn into tensors\n",
        "  y_true = tf.constant(y_true, dtype=tf.float32)\n",
        "  y_pred = tf.constant(y_pred, dtype=tf.float32)\n",
        "\n",
        "  # Calculate various metrics\n",
        "  mae = tf.keras.metrics.mean_absolute_error(y_true, y_pred)\n",
        "  mse = tf.keras.metrics.mean_squared_error(y_true, y_pred)\n",
        "  mape = tf.keras.metrics.mean_absolute_percentage_error(y_true, y_pred)\n",
        "  smape = scaled_mape(y_true, y_pred)\n",
        "  return {\"mae\": mae.numpy(),\n",
        "          \"mse\": mse.numpy(),\n",
        "          \"mape\": mape.numpy(),\n",
        "          \"smape\": smape.numpy()}"
      ],
      "execution_count": 331,
      "outputs": []
    },
    {
      "cell_type": "code",
      "metadata": {
        "colab": {
          "base_uri": "https://localhost:8080/"
        },
        "id": "dy7XZx7FllHX",
        "outputId": "a54b6bb8-f3cd-4771-be90-d1a7f34969c2"
      },
      "source": [
        "model_2_results = evaluate_preds(y_true=y_test,\n",
        "                                 y_pred=model_2_preds,\n",
        "                                 use_window=False)\n",
        "model_2_results"
      ],
      "execution_count": 332,
      "outputs": [
        {
          "output_type": "execute_result",
          "data": {
            "text/plain": [
              "{'mae': 1154.8403, 'mape': 5.17224, 'mse': 3834974.2, 'smape': 5.2769523}"
            ]
          },
          "metadata": {
            "tags": []
          },
          "execution_count": 332
        }
      ]
    },
    {
      "cell_type": "code",
      "metadata": {
        "id": "4V9HXErU1vVL"
      },
      "source": [
        "# Create a function to plot time series data\n",
        "def plot_time_series(timesteps, values, format='-', start=0, end=None, label=None, horizon=HORIZON):\n",
        "  # Adjust for HORIZON > 1\n",
        "  if horizon > 1:\n",
        "    timesteps = timesteps\n",
        "  # Plot the series\n",
        "  plt.plot(timesteps[start:end], values[start:end], format, label=label)\n",
        "  plt.xlabel(\"Time\")\n",
        "  plt.ylabel(\"BTC Price\")\n",
        "  if label:\n",
        "    plt.legend(fontsize=14)\n",
        "  plt.grid(True)"
      ],
      "execution_count": 318,
      "outputs": []
    },
    {
      "cell_type": "code",
      "metadata": {
        "colab": {
          "base_uri": "https://localhost:8080/",
          "height": 442
        },
        "id": "6xrFvatpm55b",
        "outputId": "133c15a9-b2fe-4465-e8ec-6fc4bafd12e4"
      },
      "source": [
        "# TODO: fix this for multiple horizon sizes as well... \n",
        "plt.figure(figsize=(10, 7))\n",
        "plot_time_series(timesteps=X_test, values=y_test, start=300, label=\"test_data\")\n",
        "# plot_time_series(timesteps=X_test, values=naive_forecast, start=200, label=\"naive_forecast\")\n",
        "plot_time_series(timesteps=X_test[:-HORIZON+1], values=model_2_preds, start=300, label=\"model_2_preds_windows\")"
      ],
      "execution_count": 333,
      "outputs": [
        {
          "output_type": "display_data",
          "data": {
            "image/png": "[encoded data removed]",
            "text/plain": [
              "<Figure size 720x504 with 1 Axes>"
            ]
          },
          "metadata": {
            "tags": [],
            "needs_background": "light"
          }
        }
      ]
    },
    {
      "cell_type": "code",
      "metadata": {
        "colab": {
          "base_uri": "https://localhost:8080/"
        },
        "id": "lIPdWSjrl7kO",
        "outputId": "1fb57373-6f77-4433-80b5-e01f9e5f2ddd"
      },
      "source": [
        "model_1_results"
      ],
      "execution_count": 334,
      "outputs": [
        {
          "output_type": "execute_result",
          "data": {
            "text/plain": [
              "{'mae': 720.00653, 'mape': 3.2436562, 'mse': 1650482.9, 'smape': 3.2771423}"
            ]
          },
          "metadata": {
            "tags": []
          },
          "execution_count": 334
        }
      ]
    },
    {
      "cell_type": "markdown",
      "metadata": {
        "id": "Sls7mUaq9lMl"
      },
      "source": [
        "### Model 3: Dense (1 horizon, 140 window)\n",
        "\n",
        "* -> How does a larger window effect a smaller horizon?\n",
        "* -> Model 1 looked at predicting horizon=1 with window=140\n",
        "* -> Model 2: horizon=14, window=140\n",
        "* -> Model 3: horizon=1, window=140\n",
        "* -> Compare them all..."
      ]
    },
    {
      "cell_type": "code",
      "metadata": {
        "colab": {
          "base_uri": "https://localhost:8080/"
        },
        "id": "8PtmayTM98Mb",
        "outputId": "e81c8026-77b5-4d71-eac4-2165c96b57f8"
      },
      "source": [
        "HORIZON = 30\n",
        "WINDOW_SIZE = 30\n",
        "\n",
        "full_windows, full_labels = make_windows(prices, window_size=WINDOW_SIZE, horizon=HORIZON)\n",
        "train_windows, train_labels = make_windows(y_train, window_size=WINDOW_SIZE, horizon=HORIZON)\n",
        "test_windows, test_labels = make_windows(y_test, window_size=WINDOW_SIZE, horizon=HORIZON)\n",
        "train_windows[0], train_labels[0]"
      ],
      "execution_count": 376,
      "outputs": [
        {
          "output_type": "execute_result",
          "data": {
            "text/plain": [
              "(array([123.65499, 125.455  , 108.58483, 118.67466, 121.33866, 120.65533,\n",
              "        121.795  , 123.033  , 124.049  , 125.96116, 125.27966, 125.9275 ,\n",
              "        126.38333, 135.24199, 133.20333, 142.76333, 137.92333, 142.95166,\n",
              "        152.55183, 160.33883, 164.31499, 177.63333, 188.29716, 200.70166,\n",
              "        180.355  , 175.03166, 177.6965 , 187.15983, 192.75666, 197.4    ]),\n",
              " array([ 196.02499,  198.04883,  198.93233,  200.543  ,  210.3075 ,\n",
              "         225.02   ,  248.25333,  262.32666,  294.48699,  331.10325,\n",
              "         285.8875 ,  304.97974,  338.137  ,  357.48   ,  402.954  ,\n",
              "         409.10375,  420.21649,  437.29725,  510.6025 ,  693.65   ,\n",
              "         531.54249,  574.71599,  681.33   ,  774.18   ,  746.19374,\n",
              "         768.8475 ,  789.36475,  893.1815 ,  934.355  , 1068.363  ]))"
            ]
          },
          "metadata": {
            "tags": []
          },
          "execution_count": 376
        }
      ]
    },
    {
      "cell_type": "code",
      "metadata": {
        "colab": {
          "base_uri": "https://localhost:8080/"
        },
        "id": "hxHh7xS2-CoH",
        "outputId": "dd84740b-73a9-441d-db2e-044f8bfc66df"
      },
      "source": [
        "# Build model\n",
        "model_3 = tf.keras.Sequential([\n",
        "  layers.Dense(128, activation=\"relu\"),\n",
        "  layers.Dense(1)\n",
        "])\n",
        "\n",
        "model_3.compile(loss=\"mae\",\n",
        "                optimizer=tf.keras.optimizers.Adam())\n",
        "\n",
        "model_3.fit(train_windows,\n",
        "            train_labels,\n",
        "            epochs=10,\n",
        "            validation_data=(test_windows, test_labels))"
      ],
      "execution_count": 377,
      "outputs": [
        {
          "output_type": "stream",
          "text": [
            "Epoch 1/10\n",
            "68/68 [==============================] - 1s 3ms/step - loss: 1040.5995 - val_loss: 3083.1628\n",
            "Epoch 2/10\n",
            "68/68 [==============================] - 0s 2ms/step - loss: 525.4172 - val_loss: 2480.2205\n",
            "Epoch 3/10\n",
            "68/68 [==============================] - 0s 2ms/step - loss: 516.3705 - val_loss: 2744.0747\n",
            "Epoch 4/10\n",
            "68/68 [==============================] - 0s 2ms/step - loss: 476.8337 - val_loss: 2895.2273\n",
            "Epoch 5/10\n",
            "68/68 [==============================] - 0s 2ms/step - loss: 483.9387 - val_loss: 2556.2029\n",
            "Epoch 6/10\n",
            "68/68 [==============================] - 0s 2ms/step - loss: 485.6653 - val_loss: 2465.5146\n",
            "Epoch 7/10\n",
            "68/68 [==============================] - 0s 2ms/step - loss: 479.0088 - val_loss: 2558.1758\n",
            "Epoch 8/10\n",
            "68/68 [==============================] - 0s 2ms/step - loss: 494.7932 - val_loss: 2438.0430\n",
            "Epoch 9/10\n",
            "68/68 [==============================] - 0s 2ms/step - loss: 478.7536 - val_loss: 2644.0056\n",
            "Epoch 10/10\n",
            "68/68 [==============================] - 0s 2ms/step - loss: 450.6104 - val_loss: 2463.5881\n"
          ],
          "name": "stdout"
        },
        {
          "output_type": "execute_result",
          "data": {
            "text/plain": [
              "<tensorflow.python.keras.callbacks.History at 0x7f7fcc07da50>"
            ]
          },
          "metadata": {
            "tags": []
          },
          "execution_count": 377
        }
      ]
    },
    {
      "cell_type": "code",
      "metadata": {
        "colab": {
          "base_uri": "https://localhost:8080/"
        },
        "id": "Pd-8pbfh-DDI",
        "outputId": "b5dbdd07-9f93-4603-cdd2-20de9210e34c"
      },
      "source": [
        "model_3.evaluate(test_windows, test_labels)"
      ],
      "execution_count": 378,
      "outputs": [
        {
          "output_type": "stream",
          "text": [
            "16/16 [==============================] - 0s 969us/step - loss: 2463.5881\n"
          ],
          "name": "stdout"
        },
        {
          "output_type": "execute_result",
          "data": {
            "text/plain": [
              "2463.588134765625"
            ]
          },
          "metadata": {
            "tags": []
          },
          "execution_count": 378
        }
      ]
    },
    {
      "cell_type": "code",
      "metadata": {
        "colab": {
          "base_uri": "https://localhost:8080/"
        },
        "id": "uKBNVovRpvhd",
        "outputId": "43827afa-115a-4e42-c451-58418b8c5dad"
      },
      "source": [
        "model_3_preds = make_forecast(model_3,\n",
        "                              input_data=full_windows,\n",
        "                              window_size=WINDOW_SIZE,\n",
        "                              split_size=split_size)"
      ],
      "execution_count": 379,
      "outputs": [
        {
          "output_type": "stream",
          "text": [
            "2728\n",
            "529\n"
          ],
          "name": "stdout"
        }
      ]
    },
    {
      "cell_type": "code",
      "metadata": {
        "colab": {
          "base_uri": "https://localhost:8080/"
        },
        "id": "7Sa2Z3N8qF3T",
        "outputId": "73614902-e3b5-4861-9e03-dd6a0e5d395f"
      },
      "source": [
        "model_3_preds.shape"
      ],
      "execution_count": 380,
      "outputs": [
        {
          "output_type": "execute_result",
          "data": {
            "text/plain": [
              "TensorShape([529])"
            ]
          },
          "metadata": {
            "tags": []
          },
          "execution_count": 380
        }
      ]
    },
    {
      "cell_type": "code",
      "metadata": {
        "colab": {
          "base_uri": "https://localhost:8080/"
        },
        "id": "7ek0-jee7M5J",
        "outputId": "0b07e124-5c31-4449-ab75-68883cd67002"
      },
      "source": [
        "len(y_test)"
      ],
      "execution_count": 381,
      "outputs": [
        {
          "output_type": "execute_result",
          "data": {
            "text/plain": [
              "558"
            ]
          },
          "metadata": {
            "tags": []
          },
          "execution_count": 381
        }
      ]
    },
    {
      "cell_type": "code",
      "metadata": {
        "id": "iM8AaD8M72Qc"
      },
      "source": [
        "def evaluate_preds(y_true, y_pred, use_window=False, window_size=WINDOW_SIZE, horizon=HORIZON):\n",
        "  # TODO: does this need to go from Numpy -> tensorflow -> Numpy??\n",
        "  # TODO: could use sklearn to fix the above\n",
        "\n",
        "  # Account for window size\n",
        "  if use_window:\n",
        "    y_true = y_true[window_size:]\n",
        "\n",
        "  # Adjust for HORIZON over 1\n",
        "  if horizon > 1:\n",
        "    y_true = y_true[:-horizon+1]\n",
        "  \n",
        "  # # Turn into tensors\n",
        "  y_true = tf.constant(y_true, dtype=tf.float32)\n",
        "  y_pred = tf.constant(y_pred, dtype=tf.float32)\n",
        "\n",
        "  # Calculate various metrics\n",
        "  mae = tf.keras.metrics.mean_absolute_error(y_true, y_pred)\n",
        "  mse = tf.keras.metrics.mean_squared_error(y_true, y_pred)\n",
        "  mape = tf.keras.metrics.mean_absolute_percentage_error(y_true, y_pred)\n",
        "  smape = scaled_mape(y_true, y_pred)\n",
        "  return {\"mae\": mae.numpy(),\n",
        "          \"mse\": mse.numpy(),\n",
        "          \"mape\": mape.numpy(),\n",
        "          \"smape\": smape.numpy()}"
      ],
      "execution_count": 382,
      "outputs": []
    },
    {
      "cell_type": "code",
      "metadata": {
        "colab": {
          "base_uri": "https://localhost:8080/"
        },
        "id": "P9VQqenW-5to",
        "outputId": "1f8232fa-1ab6-408a-ce38-aedad8c33942"
      },
      "source": [
        "model_3_results = evaluate_preds(y_true=y_test,\n",
        "                                 y_pred=model_3_preds,\n",
        "                                 use_window=False)\n",
        "model_3_results"
      ],
      "execution_count": 383,
      "outputs": [
        {
          "output_type": "execute_result",
          "data": {
            "text/plain": [
              "{'mae': 1285.6516, 'mape': 7.598917, 'mse': 3991377.0, 'smape': 7.2315364}"
            ]
          },
          "metadata": {
            "tags": []
          },
          "execution_count": 383
        }
      ]
    },
    {
      "cell_type": "code",
      "metadata": {
        "colab": {
          "base_uri": "https://localhost:8080/"
        },
        "id": "t5FHjtgvAueF",
        "outputId": "5862d327-243f-499f-f739-8e4f85e43354"
      },
      "source": [
        "model_1_results, model_2_results, model_3_results"
      ],
      "execution_count": 384,
      "outputs": [
        {
          "output_type": "execute_result",
          "data": {
            "text/plain": [
              "({'mae': 720.00653, 'mape': 3.2436562, 'mse': 1650482.9, 'smape': 3.2771423},\n",
              " {'mae': 1154.8403, 'mape': 5.17224, 'mse': 3834974.2, 'smape': 5.2769523},\n",
              " {'mae': 1285.6516, 'mape': 7.598917, 'mse': 3991377.0, 'smape': 7.2315364})"
            ]
          },
          "metadata": {
            "tags": []
          },
          "execution_count": 384
        }
      ]
    },
    {
      "cell_type": "code",
      "metadata": {
        "colab": {
          "base_uri": "https://localhost:8080/",
          "height": 444
        },
        "id": "gBdg1NcLs3gW",
        "outputId": "9e73a2b8-246c-4574-edaf-2e0dd240b992"
      },
      "source": [
        "# TODO: fix this for multiple horizon sizes as well... \n",
        "plt.figure(figsize=(10, 7))\n",
        "plot_time_series(timesteps=X_test, values=y_test, start=300, label=\"test_data\")\n",
        "# plot_time_series(timesteps=X_test, values=naive_forecast, start=200, label=\"naive_forecast\")\n",
        "plot_time_series(timesteps=X_test[:-HORIZON+1], values=model_3_preds, start=300, label=\"model_3_preds\")"
      ],
      "execution_count": 385,
      "outputs": [
        {
          "output_type": "display_data",
          "data": {
            "image/png": "[encoded data removed]",
            "text/plain": [
              "<Figure size 720x504 with 1 Axes>"
            ]
          },
          "metadata": {
            "tags": [],
            "needs_background": "light"
          }
        }
      ]
    },
    {
      "cell_type": "markdown",
      "metadata": {
        "id": "UW9oxH47EK-6"
      },
      "source": [
        "## TODO: Make future forecasts...\n",
        "\n",
        "* TODO\n",
        "  * Make forecasting better (how can I forecast on an arbitrary amount of steps)\n",
        "  * Create evaluation method for larger windows/horizons\n",
        "  * Build more modelling experiments\n",
        "  * Create multivariate time series\n",
        "  * Create TensorFlow windowing function\n",
        "\n",
        "* Forecasts can't be compared to anything... because they're a forecast... derp"
      ]
    },
    {
      "cell_type": "code",
      "metadata": {
        "colab": {
          "base_uri": "https://localhost:8080/"
        },
        "id": "uWlh2P7pBQpX",
        "outputId": "b59d2640-df5b-4081-b53b-abd1af6077e5"
      },
      "source": [
        "WINDOW_SIZE"
      ],
      "execution_count": 365,
      "outputs": [
        {
          "output_type": "execute_result",
          "data": {
            "text/plain": [
              "10"
            ]
          },
          "metadata": {
            "tags": []
          },
          "execution_count": 365
        }
      ]
    },
    {
      "cell_type": "code",
      "metadata": {
        "id": "0Hu1eH59BcuN"
      },
      "source": [
        "# TODO: Create make forecast function with:\n",
        "# Can forecast on any model\n",
        "# Can forecast on any time series (gets formatted to be same as the model's requirements)"
      ],
      "execution_count": null,
      "outputs": []
    },
    {
      "cell_type": "code",
      "metadata": {
        "colab": {
          "base_uri": "https://localhost:8080/"
        },
        "id": "6WYGil3TBTEA",
        "outputId": "ec25bc72-77be-4b06-c929-e180f6a450ce"
      },
      "source": [
        "# Make forecast with one model... \n",
        "model_3_forecast = model_3.predict(tf.expand_dims(y_test[-model_3.input_shape[-1]:], axis=0))\n",
        "model_3_forecast"
      ],
      "execution_count": null,
      "outputs": [
        {
          "output_type": "execute_result",
          "data": {
            "text/plain": [
              "array([[51037.02]], dtype=float32)"
            ]
          },
          "metadata": {
            "tags": []
          },
          "execution_count": 450
        }
      ]
    },
    {
      "cell_type": "code",
      "metadata": {
        "id": "soQoulDxEhAp"
      },
      "source": [
        "# TODO: Update this to work with future data...\n",
        "def make_future_forecast(model, input_data):\n",
        "  \"\"\"\n",
        "  Uses model to make forecasts on input_data.\n",
        "  \"\"\"\n",
        "  forecast = model.predict(tf.expand_dims(input_data[-model.input_shape[-1]:], axis=0)) # make future predictions on last timestep(s) of input_data\n",
        "  return tf.squeeze(forecast).numpy()"
      ],
      "execution_count": null,
      "outputs": []
    },
    {
      "cell_type": "code",
      "metadata": {
        "colab": {
          "base_uri": "https://localhost:8080/"
        },
        "id": "cU0-6mgXFT3F",
        "outputId": "8c6216a3-480f-4212-ec28-eb40595c4a06"
      },
      "source": [
        "model_2_forecast = make_forecast(model_2, y_test)\n",
        "model_2_forecast"
      ],
      "execution_count": null,
      "outputs": [
        {
          "output_type": "execute_result",
          "data": {
            "text/plain": [
              "array([53904.688, 43581.746, 53670.637, 51078.867, 45989.836, 47447.473,\n",
              "       44555.715, 46859.6  , 54127.32 , 54640.65 , 52999.043, 52226.145,\n",
              "       46463.242, 45323.86 ], dtype=float32)"
            ]
          },
          "metadata": {
            "tags": []
          },
          "execution_count": 454
        }
      ]
    },
    {
      "cell_type": "code",
      "metadata": {
        "colab": {
          "base_uri": "https://localhost:8080/"
        },
        "id": "6cIibo-CFcxA",
        "outputId": "e3167e29-944a-4f7d-b28a-3e7812a7d7eb"
      },
      "source": [
        "model_3_forecast = make_forecast(model_3, y_test)\n",
        "model_3_forecast"
      ],
      "execution_count": null,
      "outputs": [
        {
          "output_type": "execute_result",
          "data": {
            "text/plain": [
              "51037.02"
            ]
          },
          "metadata": {
            "tags": []
          },
          "execution_count": 457
        }
      ]
    },
    {
      "cell_type": "markdown",
      "metadata": {
        "id": "QuaY0cOaCHfr"
      },
      "source": [
        "### TODO: Plot forecasts\n",
        "\n",
        "* Need: \n",
        "  * horizon # of dates in future\n",
        "  * forecast"
      ]
    },
    {
      "cell_type": "code",
      "metadata": {
        "colab": {
          "base_uri": "https://localhost:8080/"
        },
        "id": "6676Sl-cAFn5",
        "outputId": "c8cfc1d7-a4d7-4930-a2de-40e4b84c6640"
      },
      "source": [
        "# Last timestep of timesteps (currently in np.datetime64 format)\n",
        "X_test[-1]"
      ],
      "execution_count": null,
      "outputs": [
        {
          "output_type": "execute_result",
          "data": {
            "text/plain": [
              "numpy.datetime64('2021-05-18T00:00:00.000000000')"
            ]
          },
          "metadata": {
            "tags": []
          },
          "execution_count": 443
        }
      ]
    },
    {
      "cell_type": "code",
      "metadata": {
        "id": "i4iNNliSCbU-"
      },
      "source": [
        "def get_future_dates(start_date, horizon=1, offset=1):\n",
        "  \"\"\"\n",
        "  Returns array of datetime values from ranging from start_date to start_date+horizon.\n",
        "\n",
        "  start_date: date to start range (np.datetime64)\n",
        "  horizon: number of day to add onto start date for range (int)\n",
        "  offset: if offset=1 (default), original date is not included, if offset=0, original date is included\n",
        "  \"\"\"\n",
        "  return np.arange(start_date + np.timedelta64(offset, \"D\"), start_date + np.timedelta64(horizon+1, \"D\"), dtype=\"datetime64[D]\")"
      ],
      "execution_count": null,
      "outputs": []
    },
    {
      "cell_type": "code",
      "metadata": {
        "id": "252bhVD7C5NZ"
      },
      "source": [
        "next_time_steps = get_future_dates(start_date=X_test[-1], horizon=HORIZON)"
      ],
      "execution_count": null,
      "outputs": []
    },
    {
      "cell_type": "code",
      "metadata": {
        "colab": {
          "base_uri": "https://localhost:8080/"
        },
        "id": "gtOqAgSPyjtn",
        "outputId": "e54d6fcf-ac1e-4152-b646-20778f81393d"
      },
      "source": [
        "# Example of getting next two weeks\n",
        "next_two_weeks = get_future_dates(start_date=X_test[-1], horizon=14)\n",
        "next_two_weeks"
      ],
      "execution_count": null,
      "outputs": [
        {
          "output_type": "execute_result",
          "data": {
            "text/plain": [
              "array(['2021-05-19', '2021-05-20', '2021-05-21', '2021-05-22',\n",
              "       '2021-05-23', '2021-05-24', '2021-05-25', '2021-05-26',\n",
              "       '2021-05-27', '2021-05-28', '2021-05-29', '2021-05-30',\n",
              "       '2021-05-31', '2021-06-01'], dtype='datetime64[D]')"
            ]
          },
          "metadata": {
            "tags": []
          },
          "execution_count": 544
        }
      ]
    },
    {
      "cell_type": "code",
      "metadata": {
        "id": "G_5UX08aCThS"
      },
      "source": [
        "model_2_forecast = np.insert(model_2_forecast, 0, y_test[-1]) \n",
        "future_dates = np.insert(next_two_weeks, 0, X_test[-1])"
      ],
      "execution_count": null,
      "outputs": []
    },
    {
      "cell_type": "code",
      "metadata": {
        "colab": {
          "base_uri": "https://localhost:8080/"
        },
        "id": "iBj7y088EAYc",
        "outputId": "b56e0a2e-76f6-4189-f678-559a602bfe79"
      },
      "source": [
        "model_2_forecast, future_dates"
      ],
      "execution_count": null,
      "outputs": [
        {
          "output_type": "execute_result",
          "data": {
            "text/plain": [
              "(array([43144.473, 53904.688, 43581.746, 53670.637, 51078.867, 45989.836,\n",
              "        47447.473, 44555.715, 46859.6  , 54127.32 , 54640.65 , 52999.043,\n",
              "        52226.145, 46463.242, 45323.86 ], dtype=float32),\n",
              " array(['2021-05-18', '2021-05-19', '2021-05-20', '2021-05-21',\n",
              "        '2021-05-22', '2021-05-23', '2021-05-24', '2021-05-25',\n",
              "        '2021-05-26', '2021-05-27', '2021-05-28', '2021-05-29',\n",
              "        '2021-05-30', '2021-05-31', '2021-06-01'], dtype='datetime64[D]'))"
            ]
          },
          "metadata": {
            "tags": []
          },
          "execution_count": 546
        }
      ]
    },
    {
      "cell_type": "markdown",
      "metadata": {
        "id": "V4jPtORZEgs9"
      },
      "source": [
        "TODO: Fix the below graph to have model_2_preds... continued into model 2 forecast, want to have the windowed forecast plottable & then predictions being able to be made multiple steps into the future"
      ]
    },
    {
      "cell_type": "code",
      "metadata": {
        "colab": {
          "base_uri": "https://localhost:8080/"
        },
        "id": "GyaSsy8bJw5-",
        "outputId": "3debee8b-a82b-4a0f-e105-55f6379a4349"
      },
      "source": [
        "tf.keras.metrics.mean_absolute_error(y_test[WINDOW_SIZE:-(len(y_test) % HORIZON)-1], # account for window sizes/cutoff\n",
        "                                     tf.reduce_mean(model_2_preds, axis=1))"
      ],
      "execution_count": null,
      "outputs": [
        {
          "output_type": "execute_result",
          "data": {
            "text/plain": [
              "<tf.Tensor: shape=(), dtype=float32, numpy=1481.0415>"
            ]
          },
          "metadata": {
            "tags": []
          },
          "execution_count": 528
        }
      ]
    },
    {
      "cell_type": "code",
      "metadata": {
        "colab": {
          "base_uri": "https://localhost:8080/"
        },
        "id": "xTYDnN2WGhu9",
        "outputId": "90215aa3-9fb1-4821-b91d-508c5cdcf3a1"
      },
      "source": [
        "model_2_results"
      ],
      "execution_count": null,
      "outputs": [
        {
          "output_type": "execute_result",
          "data": {
            "text/plain": [
              "{'mae': 2529.3965, 'mape': 9.727565, 'mse': 16825896.0, 'smape': 10.112202}"
            ]
          },
          "metadata": {
            "tags": []
          },
          "execution_count": 529
        }
      ]
    },
    {
      "cell_type": "code",
      "metadata": {
        "colab": {
          "base_uri": "https://localhost:8080/"
        },
        "id": "Yw-e5fkcMOAl",
        "outputId": "5341bffb-fce2-4ecf-fb8e-8a98d66edcbc"
      },
      "source": [
        "y_test[140:140+14], test_labels[0]"
      ],
      "execution_count": null,
      "outputs": [
        {
          "output_type": "execute_result",
          "data": {
            "text/plain": [
              "(array([6721.49539238, 6682.7800492 , 6229.48834283, 5922.48983509,\n",
              "        6483.73944553, 6446.42134684, 6537.3364615 , 6850.55871169,\n",
              "        6776.37009357, 6855.93326446, 6805.3622869 , 7278.24396977,\n",
              "        7175.66747656, 7367.29339845]),\n",
              " array([6721.49539238, 6682.7800492 , 6229.48834283, 5922.48983509,\n",
              "        6483.73944553, 6446.42134684, 6537.3364615 , 6850.55871169,\n",
              "        6776.37009357, 6855.93326446, 6805.3622869 , 7278.24396977,\n",
              "        7175.66747656, 7367.29339845]))"
            ]
          },
          "metadata": {
            "tags": []
          },
          "execution_count": 551
        }
      ]
    },
    {
      "cell_type": "code",
      "metadata": {
        "colab": {
          "base_uri": "https://localhost:8080/"
        },
        "id": "QNC3HzAGLM1z",
        "outputId": "b3af51ad-69e9-4107-9b2c-cdcf54656cce"
      },
      "source": [
        "tf.reduce_mean(model_2_preds[-100:], axis=1)"
      ],
      "execution_count": null,
      "outputs": [
        {
          "output_type": "execute_result",
          "data": {
            "text/plain": [
              "<tf.Tensor: shape=(100,), dtype=float32, numpy=\n",
              "array([36701.473, 36144.57 , 35764.348, 34901.656, 34843.71 , 35094.81 ,\n",
              "       35132.727, 34703.82 , 34822.19 , 34917.02 , 35235.418, 35918.348,\n",
              "       36537.855, 36705.363, 37077.176, 38421.293, 39489.344, 40080.098,\n",
              "       40876.883, 42075.066, 43110.34 , 44393.844, 45216.777, 45956.57 ,\n",
              "       46855.19 , 48068.395, 49270.723, 50073.617, 51104.812, 51841.305,\n",
              "       51963.098, 52384.965, 52220.   , 51455.895, 51411.168, 51489.188,\n",
              "       51131.52 , 50980.19 , 50987.875, 51007.54 , 51163.258, 51886.066,\n",
              "       52521.082, 52356.008, 53245.973, 54041.48 , 55264.96 , 55964.742,\n",
              "       56759.926, 57594.387, 58877.68 , 59014.035, 59824.086, 59583.305,\n",
              "       59824.34 , 60218.43 , 59945.965, 59501.598, 58837.625, 58398.35 ,\n",
              "       57354.477, 57350.035, 57393.535, 56191.32 , 56402.09 , 56915.77 ,\n",
              "       56231.77 , 56628.395, 56597.395, 56858.844, 57405.73 , 58069.418,\n",
              "       57892.56 , 57875.32 , 57569.188, 58106.938, 58683.445, 59460.043,\n",
              "       60356.37 , 61224.145, 61700.85 , 62376.965, 63341.246, 63533.957,\n",
              "       63728.312, 63351.645, 63100.29 , 62591.418, 61397.555, 60589.914,\n",
              "       60047.062, 58441.508, 58210.43 , 58898.125, 57963.316, 57164.215,\n",
              "       57364.543, 56864.16 , 56845.277, 56932.164], dtype=float32)>"
            ]
          },
          "metadata": {
            "tags": []
          },
          "execution_count": 549
        }
      ]
    },
    {
      "cell_type": "code",
      "metadata": {
        "colab": {
          "base_uri": "https://localhost:8080/"
        },
        "id": "ShxXEbrGNQ1Q",
        "outputId": "5a3e10e0-25d6-469f-d809-4be40346e9f4"
      },
      "source": [
        "100-len(y_test) % HORIZON - 1"
      ],
      "execution_count": null,
      "outputs": [
        {
          "output_type": "execute_result",
          "data": {
            "text/plain": [
              "87"
            ]
          },
          "metadata": {
            "tags": []
          },
          "execution_count": 556
        }
      ]
    },
    {
      "cell_type": "code",
      "metadata": {
        "colab": {
          "base_uri": "https://localhost:8080/"
        },
        "id": "3t7X4qdnNd49",
        "outputId": "be879017-f34c-4879-c30b-da8c00d5f0fb"
      },
      "source": [
        "100+((len(y_test) % HORIZON) - 1)"
      ],
      "execution_count": null,
      "outputs": [
        {
          "output_type": "execute_result",
          "data": {
            "text/plain": [
              "111"
            ]
          },
          "metadata": {
            "tags": []
          },
          "execution_count": 564
        }
      ]
    },
    {
      "cell_type": "code",
      "metadata": {
        "colab": {
          "base_uri": "https://localhost:8080/"
        },
        "id": "sd7o-YLKNsyU",
        "outputId": "a1fd41b8-87c1-4753-a9ff-53f4117de4ef"
      },
      "source": [
        "X_test[-111]"
      ],
      "execution_count": null,
      "outputs": [
        {
          "output_type": "execute_result",
          "data": {
            "text/plain": [
              "numpy.datetime64('2021-01-28T00:00:00.000000000')"
            ]
          },
          "metadata": {
            "tags": []
          },
          "execution_count": 565
        }
      ]
    },
    {
      "cell_type": "code",
      "metadata": {
        "colab": {
          "base_uri": "https://localhost:8080/"
        },
        "id": "2l1nbCpMN29T",
        "outputId": "77b16be9-5635-42e4-d2da-42588a3ed7b5"
      },
      "source": [
        "# Does indexing on this account for the lagging window???\n",
        "(100+(len(y_test) % HORIZON) - 1)"
      ],
      "execution_count": null,
      "outputs": [
        {
          "output_type": "execute_result",
          "data": {
            "text/plain": [
              "111"
            ]
          },
          "metadata": {
            "tags": []
          },
          "execution_count": 566
        }
      ]
    },
    {
      "cell_type": "code",
      "metadata": {
        "colab": {
          "base_uri": "https://localhost:8080/",
          "height": 447
        },
        "id": "B_7z2XE5N9mj",
        "outputId": "299990ef-0b00-4190-dffd-99c330a36334"
      },
      "source": [
        "## TODO: Note the non-adjusted plot here...\n",
        "# Plot forecast\n",
        "plt.figure(figsize=(10, 7))\n",
        "plt.plot(X_test[-100:], y_test[-100:], label=\"test_data\")\n",
        "# plt.plot(X_train, y_train)\n",
        "plt.plot(X_test[-100:], tf.reduce_mean(model_2_preds[-100:], axis=1), label=\"model_2_preds\")\n",
        "plt.plot(future_dates, model_2_forecast.ravel(), label=\"model_2_forecast\")\n",
        "plt.legend()\n",
        "plt.plot()"
      ],
      "execution_count": null,
      "outputs": [
        {
          "output_type": "execute_result",
          "data": {
            "text/plain": [
              "[]"
            ]
          },
          "metadata": {
            "tags": []
          },
          "execution_count": 569
        },
        {
          "output_type": "display_data",
          "data": {
            "image/png": "[encoded data removed]",
            "text/plain": [
              "<Figure size 720x504 with 1 Axes>"
            ]
          },
          "metadata": {
            "tags": [],
            "needs_background": "light"
          }
        }
      ]
    },
    {
      "cell_type": "code",
      "metadata": {
        "colab": {
          "base_uri": "https://localhost:8080/",
          "height": 447
        },
        "id": "MqTK7pr688o2",
        "outputId": "786ba446-0e9f-4647-a00c-6bbde286097d"
      },
      "source": [
        "## TODO: Note the adjusted plot here...\n",
        "# Plot forecast\n",
        "plt.figure(figsize=(10, 7))\n",
        "plt.plot(X_test[-100:], y_test[-100:], label=\"test_data\")\n",
        "# plt.plot(X_train, y_train)\n",
        "plt.plot(X_test[-(100+HORIZON):-HORIZON], tf.reduce_mean(model_2_preds[-100:], axis=1), label=\"model_2_preds\")\n",
        "plt.plot(future_dates, model_2_forecast.ravel(), label=\"model_2_forecast\")\n",
        "plt.legend()\n",
        "plt.plot()"
      ],
      "execution_count": null,
      "outputs": [
        {
          "output_type": "execute_result",
          "data": {
            "text/plain": [
              "[]"
            ]
          },
          "metadata": {
            "tags": []
          },
          "execution_count": 571
        },
        {
          "output_type": "display_data",
          "data": {
            "image/png": "[encoded data removed]",
            "text/plain": [
              "<Figure size 720x504 with 1 Axes>"
            ]
          },
          "metadata": {
            "tags": [],
            "needs_background": "light"
          }
        }
      ]
    },
    {
      "cell_type": "code",
      "metadata": {
        "id": "_bSQcfknCjN4"
      },
      "source": [
        ""
      ],
      "execution_count": null,
      "outputs": []
    },
    {
      "cell_type": "code",
      "metadata": {
        "id": "ZcbnNGhhL6ss"
      },
      "source": [
        ""
      ],
      "execution_count": null,
      "outputs": []
    },
    {
      "cell_type": "code",
      "metadata": {
        "id": "b4W2c9woL6jZ"
      },
      "source": [
        ""
      ],
      "execution_count": null,
      "outputs": []
    },
    {
      "cell_type": "code",
      "metadata": {
        "id": "4dfvsCORCjIi"
      },
      "source": [
        ""
      ],
      "execution_count": null,
      "outputs": []
    },
    {
      "cell_type": "markdown",
      "metadata": {
        "id": "Y82CDMWp5Wva"
      },
      "source": [
        "# TODO: Make a multivariate time series \n",
        "\n",
        "Bitcoin price + halving events...\n",
        "\n",
        "-> https://www.investopedia.com/bitcoin-halving-4843769\n",
        "\n",
        "> Vigg_1991: For me … I use sensor data for predictions and forecasting … the toughest part of a time series has been .. when doing multivariate time series … some inputs may have larger scale compared to the target .. therefore do we de-trend all the data to keep them consistent or do we keep them them the way they are … because sometimes they lose the correlation between them once they are retreaded for prediction. How would you handle that ? Or is that important for deep learning predictions?\n",
        "\n",
        "* inputs: larger scale compared to target\n",
        "* detrend all the data to keep them consistent? Or keep the same way?\n",
        "* sometimes they lose the correlation between them once they are de-trended "
      ]
    },
    {
      "cell_type": "code",
      "metadata": {
        "id": "z7XrBXMy5WQG"
      },
      "source": [
        ""
      ],
      "execution_count": null,
      "outputs": []
    },
    {
      "cell_type": "code",
      "metadata": {
        "id": "KVZ92raO5WL-"
      },
      "source": [
        ""
      ],
      "execution_count": null,
      "outputs": []
    },
    {
      "cell_type": "code",
      "metadata": {
        "id": "RSTXtKsI5WIh"
      },
      "source": [
        ""
      ],
      "execution_count": null,
      "outputs": []
    },
    {
      "cell_type": "code",
      "metadata": {
        "id": "7VCekOGZ5WFi"
      },
      "source": [
        ""
      ],
      "execution_count": null,
      "outputs": []
    },
    {
      "cell_type": "markdown",
      "metadata": {
        "id": "RyK5r-j5Y--4"
      },
      "source": [
        "## TODO: Make TensorFlow tf.data Windowed Dataset"
      ]
    },
    {
      "cell_type": "code",
      "metadata": {
        "id": "ebeKFCfSBk-b"
      },
      "source": [
        ""
      ],
      "execution_count": null,
      "outputs": []
    },
    {
      "cell_type": "code",
      "metadata": {
        "id": "2F6tqMSB5VQw"
      },
      "source": [
        ""
      ],
      "execution_count": null,
      "outputs": []
    },
    {
      "cell_type": "code",
      "metadata": {
        "id": "XAeNIp1IYzz5"
      },
      "source": [
        ""
      ],
      "execution_count": null,
      "outputs": []
    },
    {
      "cell_type": "code",
      "metadata": {
        "id": "cQFBrdoFYzp-"
      },
      "source": [
        ""
      ],
      "execution_count": null,
      "outputs": []
    },
    {
      "cell_type": "code",
      "metadata": {
        "id": "jak40o1MYznM"
      },
      "source": [
        ""
      ],
      "execution_count": null,
      "outputs": []
    },
    {
      "cell_type": "code",
      "metadata": {
        "id": "bEPwZjIASOWg"
      },
      "source": [
        "# TODO: Use entire time series to predict next step, compare to actual data \n",
        "# (e.g. revisit the prices in 1 week & see how the model goes)\n",
        "# Start date: 18 May 2021\n",
        "# End date: 25 May 2021 (revisit the updated prices here & see how wrong the model is...)"
      ],
      "execution_count": null,
      "outputs": []
    },
    {
      "cell_type": "markdown",
      "metadata": {
        "id": "fVGY8WhHBlHV"
      },
      "source": [
        "## TODO: Uncertainty estimates"
      ]
    },
    {
      "cell_type": "markdown",
      "metadata": {
        "id": "SQsz_JNwBooW"
      },
      "source": [
        "### TODO: Model X: (model with Dropout to make MC Dropout model)..."
      ]
    },
    {
      "cell_type": "code",
      "metadata": {
        "id": "-Neg2BC6Bo_F"
      },
      "source": [
        ""
      ],
      "execution_count": null,
      "outputs": []
    },
    {
      "cell_type": "code",
      "metadata": {
        "id": "_n3iKK_mz9Uu"
      },
      "source": [
        ""
      ],
      "execution_count": null,
      "outputs": []
    },
    {
      "cell_type": "markdown",
      "metadata": {
        "id": "U5VMaZ1UBpXt"
      },
      "source": [
        "# TODO: Why forecasting is BS (turkey problem)\n",
        "\n",
        "TK - inject a turkey problem piece of data into the model & see how it effects (e.g. 1 data point that's 50x of outlier)\n",
        "\n",
        "* See this video: https://youtu.be/hRwimmE2wEk\n",
        "* Open system: beware (like fortune telling), see Mark Saroufim's tweet - https://twitter.com/marksaroufim/status/1366871736604532739?s=20\n",
        "* Closed system: try it out"
      ]
    },
    {
      "cell_type": "code",
      "metadata": {
        "id": "KD50Xt36BsOk"
      },
      "source": [
        ""
      ],
      "execution_count": null,
      "outputs": []
    },
    {
      "cell_type": "code",
      "metadata": {
        "id": "kUFWcnNGB7yn"
      },
      "source": [
        ""
      ],
      "execution_count": null,
      "outputs": []
    },
    {
      "cell_type": "code",
      "metadata": {
        "id": "DgG2hk9PB7wi"
      },
      "source": [
        ""
      ],
      "execution_count": null,
      "outputs": []
    },
    {
      "cell_type": "code",
      "metadata": {
        "id": "dPWjKlk_B7tb"
      },
      "source": [
        ""
      ],
      "execution_count": null,
      "outputs": []
    },
    {
      "cell_type": "code",
      "metadata": {
        "id": "JLSwuKgzB7q_"
      },
      "source": [
        ""
      ],
      "execution_count": null,
      "outputs": []
    },
    {
      "cell_type": "markdown",
      "metadata": {
        "id": "47VA8gR3B7QP"
      },
      "source": [
        "# TODO: Exercises"
      ]
    },
    {
      "cell_type": "code",
      "metadata": {
        "id": "vSZLIopuCAJN"
      },
      "source": [
        ""
      ],
      "execution_count": null,
      "outputs": []
    },
    {
      "cell_type": "markdown",
      "metadata": {
        "id": "iiOlVRREB7No"
      },
      "source": [
        "## TODO: Extra-curriculum"
      ]
    },
    {
      "cell_type": "markdown",
      "metadata": {
        "id": "L2PgJ141B7HG"
      },
      "source": [
        ""
      ]
    }
  ]
}